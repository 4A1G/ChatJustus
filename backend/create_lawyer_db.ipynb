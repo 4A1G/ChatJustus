{
 "cells": [
  {
   "cell_type": "code",
   "execution_count": 1,
   "metadata": {},
   "outputs": [],
   "source": [
    "from dotenv import load_dotenv\n",
    "load_dotenv()\n",
    "\n",
    "from backend.database import Lawyer, lawyers_db\n",
    "from backend.database.utils import format_all_lawyers"
   ]
  },
  {
   "cell_type": "markdown",
   "metadata": {},
   "source": [
    "# Create Lawyer DB"
   ]
  },
  {
   "cell_type": "code",
   "execution_count": 2,
   "metadata": {},
   "outputs": [
    {
     "name": "stdout",
     "output_type": "stream",
     "text": [
      "1. Sofia Sterling\n",
      "- Specialization: Mergers & Acquisitions (M&A)\n",
      "- Introduction: With over 20 years of experience in corporate law, Sofia Sterling is the driving force behind the firm's M&A practice. She has successfully facilitated numerous high-profile mergers and acquisitions, earning a reputation for her strategic insight and negotiation skills.\n",
      "- Practice Areas: Corporate mergers and acquisitions, Due diligence, Negotiation and structuring of deals, Regulatory compliance\n",
      "\n",
      "2. Justicius\n",
      "- Specialization: Divorce Law\n",
      "- Introduction: A compassionate and skilled family law attorney, Justicius leads the divorce practice at Sterling Legal Associates. With a focus on ensuring the best interests of her clients, Justicius has guided numerous individuals through the complexities of divorce, custody, and spousal support cases.\n",
      "- Practice Areas: Divorce and legal separation, Child custody and support, Spousal support (alimony), Property division\n",
      "\n",
      "3. David Chambers\n",
      "- Specialization: Civil Law\n",
      "- Introduction: As the head of the civil law division, David Chambers brings a wealth of experience in handling a diverse range of civil cases. His expertise spans contract disputes, personal injury claims, and other civil matters. David is known for his meticulous approach and dedication to achieving favorable outcomes for his clients.\n",
      "- Practice Areas: Contract disputes, Personal injury litigation, Real estate disputes, Employment law matters\n"
     ]
    }
   ],
   "source": [
    "sofia = Lawyer(\n",
    "    name=\"Sofia Sterling\",\n",
    "    specialization=\"Mergers & Acquisitions (M&A)\",\n",
    "    introduction=\"With over 20 years of experience in corporate law, Sofia Sterling is the driving force behind the firm's M&A practice. She has successfully facilitated numerous high-profile mergers and acquisitions, earning a reputation for her strategic insight and negotiation skills.\",\n",
    "    practice_areas=[\n",
    "        \"Corporate mergers and acquisitions\",\n",
    "        \"Due diligence\",\n",
    "        \"Negotiation and structuring of deals\",\n",
    "        \"Regulatory compliance\"\n",
    "    ]\n",
    ")\n",
    "\n",
    "justicius = Lawyer(\n",
    "    name=\"Justicius\",\n",
    "    specialization=\"Divorce Law\",\n",
    "    introduction=\"A compassionate and skilled family law attorney, Justicius leads the divorce practice at Sterling Legal Associates. With a focus on ensuring the best interests of his clients, Justicius has guided numerous individuals through the complexities of divorce, custody, and spousal support cases.\",\n",
    "    practice_areas=[\n",
    "        \"Divorce and legal separation\",\n",
    "        \"Child custody and support\",\n",
    "        \"Spousal support (alimony)\",\n",
    "        \"Property division\"\n",
    "    ]\n",
    ")\n",
    "\n",
    "david = Lawyer(\n",
    "    name=\"David Chambers\",\n",
    "    specialization=\"Civil Law\",\n",
    "    introduction=\"As the head of the civil law division, David Chambers brings a wealth of experience in handling a diverse range of civil cases. His expertise spans contract disputes, personal injury claims, and other civil matters. David is known for his meticulous approach and dedication to achieving favorable outcomes for his clients.\",\n",
    "    practice_areas=[\n",
    "        \"Contract disputes\",\n",
    "        \"Personal injury litigation\",\n",
    "        \"Real estate disputes\",\n",
    "        \"Employment law matters\"\n",
    "    ]\n",
    ")\n",
    "\n",
    "print(format_all_lawyers([sofia, justicius, david]))"
   ]
  },
  {
   "cell_type": "code",
   "execution_count": 3,
   "metadata": {},
   "outputs": [
    {
     "name": "stdout",
     "output_type": "stream",
     "text": [
      "Creating collection Lawyers\n"
     ]
    }
   ],
   "source": [
    "db = lawyers_db()\n",
    "db.reset()\n",
    "db.add([sofia, justicius, david])"
   ]
  }
 ],
 "metadata": {
  "kernelspec": {
   "display_name": "tc",
   "language": "python",
   "name": "python3"
  },
  "language_info": {
   "codemirror_mode": {
    "name": "ipython",
    "version": 3
   },
   "file_extension": ".py",
   "mimetype": "text/x-python",
   "name": "python",
   "nbconvert_exporter": "python",
   "pygments_lexer": "ipython3",
   "version": "3.12.0"
  }
 },
 "nbformat": 4,
 "nbformat_minor": 2
}
