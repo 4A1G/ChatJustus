{
 "cells": [
  {
   "cell_type": "code",
   "execution_count": 1,
   "metadata": {},
   "outputs": [
    {
     "data": {
      "text/plain": [
       "True"
      ]
     },
     "execution_count": 1,
     "metadata": {},
     "output_type": "execute_result"
    }
   ],
   "source": [
    "from dotenv import load_dotenv\n",
    "load_dotenv()"
   ]
  },
  {
   "cell_type": "code",
   "execution_count": 2,
   "metadata": {},
   "outputs": [
    {
     "name": "stdout",
     "output_type": "stream",
     "text": [
      "[{'type': 'function', 'function': {'name': 'generate_dialogs', 'parameters': {'type': 'object', 'properties': {'dialogs': {'items': {'properties': {'speaker': {'type': 'string'}, 'content': {'embed': True, 'embedding_dim': 1536, 'embedding_distance': 'Cosine', 'embedding_model': 'OpenAIEmbedding', 'type': 'string'}}, 'required': ['speaker', 'content'], 'type': 'object'}, 'type': 'array'}}, 'required': ['dialogs']}}}]\n",
      "awaiting coroutine\n",
      "Creating collection Dialog_Justicius-Marco_12\n"
     ]
    }
   ],
   "source": [
    "from backend.database.dialog import create_mocked_dialogs\n",
    "\n",
    "d = await create_mocked_dialogs(\"Marco\", 12, \"Neighbor cat-sitting agreement turned into cat theft. Need assistance in pursuing legal action against the neighbor for the return of the cat.\", \"Justicius\")\n",
    "\n",
    "d"
   ]
  }
 ],
 "metadata": {
  "kernelspec": {
   "display_name": "tc",
   "language": "python",
   "name": "python3"
  },
  "language_info": {
   "codemirror_mode": {
    "name": "ipython",
    "version": 3
   },
   "file_extension": ".py",
   "mimetype": "text/x-python",
   "name": "python",
   "nbconvert_exporter": "python",
   "pygments_lexer": "ipython3",
   "version": "3.12.0"
  }
 },
 "nbformat": 4,
 "nbformat_minor": 2
}
