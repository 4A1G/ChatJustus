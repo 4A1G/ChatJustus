{
 "cells": [
  {
   "cell_type": "markdown",
   "metadata": {},
   "source": [
    "# Create Legal DB\n",
    "\n",
    "This notebook takes the raw XML data, converts it to JSON, and then creates a VectorDB from it."
   ]
  },
  {
   "cell_type": "code",
   "execution_count": 2,
   "metadata": {},
   "outputs": [
    {
     "ename": "RuntimeError",
     "evalue": "Storage folder storage/qdrant is already accessed by another instance of Qdrant client. If you require concurrent access, use Qdrant server instead.",
     "output_type": "error",
     "traceback": [
      "\u001b[0;31m---------------------------------------------------------------------------\u001b[0m",
      "\u001b[0;31mBlockingIOError\u001b[0m                           Traceback (most recent call last)",
      "File \u001b[0;32m~/anaconda3/envs/tc/lib/python3.12/site-packages/portalocker/portalocker.py:107\u001b[0m, in \u001b[0;36mlock\u001b[0;34m(file_, flags)\u001b[0m\n\u001b[1;32m    106\u001b[0m \u001b[38;5;28;01mtry\u001b[39;00m:\n\u001b[0;32m--> 107\u001b[0m     \u001b[43mfcntl\u001b[49m\u001b[38;5;241;43m.\u001b[39;49m\u001b[43mflock\u001b[49m\u001b[43m(\u001b[49m\u001b[43mfile_\u001b[49m\u001b[43m,\u001b[49m\u001b[43m \u001b[49m\u001b[43mflags\u001b[49m\u001b[43m)\u001b[49m\n\u001b[1;32m    108\u001b[0m \u001b[38;5;28;01mexcept\u001b[39;00m locking_exceptions \u001b[38;5;28;01mas\u001b[39;00m exc_value:\n\u001b[1;32m    109\u001b[0m     \u001b[38;5;66;03m# The exception code varies on different systems so we'll catch\u001b[39;00m\n\u001b[1;32m    110\u001b[0m     \u001b[38;5;66;03m# every IO error\u001b[39;00m\n",
      "\u001b[0;31mBlockingIOError\u001b[0m: [Errno 35] Resource temporarily unavailable",
      "\nThe above exception was the direct cause of the following exception:\n",
      "\u001b[0;31mLockException\u001b[0m                             Traceback (most recent call last)",
      "File \u001b[0;32m~/anaconda3/envs/tc/lib/python3.12/site-packages/qdrant_client/local/qdrant_local.py:89\u001b[0m, in \u001b[0;36mQdrantLocal._load\u001b[0;34m(self)\u001b[0m\n\u001b[1;32m     88\u001b[0m \u001b[38;5;28;01mtry\u001b[39;00m:\n\u001b[0;32m---> 89\u001b[0m     \u001b[43mportalocker\u001b[49m\u001b[38;5;241;43m.\u001b[39;49m\u001b[43mlock\u001b[49m\u001b[43m(\u001b[49m\n\u001b[1;32m     90\u001b[0m \u001b[43m        \u001b[49m\u001b[38;5;28;43mself\u001b[39;49m\u001b[38;5;241;43m.\u001b[39;49m\u001b[43m_flock_file\u001b[49m\u001b[43m,\u001b[49m\n\u001b[1;32m     91\u001b[0m \u001b[43m        \u001b[49m\u001b[43mportalocker\u001b[49m\u001b[38;5;241;43m.\u001b[39;49m\u001b[43mLockFlags\u001b[49m\u001b[38;5;241;43m.\u001b[39;49m\u001b[43mEXCLUSIVE\u001b[49m\u001b[43m \u001b[49m\u001b[38;5;241;43m|\u001b[39;49m\u001b[43m \u001b[49m\u001b[43mportalocker\u001b[49m\u001b[38;5;241;43m.\u001b[39;49m\u001b[43mLockFlags\u001b[49m\u001b[38;5;241;43m.\u001b[39;49m\u001b[43mNON_BLOCKING\u001b[49m\u001b[43m,\u001b[49m\n\u001b[1;32m     92\u001b[0m \u001b[43m    \u001b[49m\u001b[43m)\u001b[49m\n\u001b[1;32m     93\u001b[0m \u001b[38;5;28;01mexcept\u001b[39;00m portalocker\u001b[38;5;241m.\u001b[39mexceptions\u001b[38;5;241m.\u001b[39mLockException:\n",
      "File \u001b[0;32m~/anaconda3/envs/tc/lib/python3.12/site-packages/portalocker/portalocker.py:111\u001b[0m, in \u001b[0;36mlock\u001b[0;34m(file_, flags)\u001b[0m\n\u001b[1;32m    108\u001b[0m \u001b[38;5;28;01mexcept\u001b[39;00m locking_exceptions \u001b[38;5;28;01mas\u001b[39;00m exc_value:\n\u001b[1;32m    109\u001b[0m     \u001b[38;5;66;03m# The exception code varies on different systems so we'll catch\u001b[39;00m\n\u001b[1;32m    110\u001b[0m     \u001b[38;5;66;03m# every IO error\u001b[39;00m\n\u001b[0;32m--> 111\u001b[0m     \u001b[38;5;28;01mraise\u001b[39;00m exceptions\u001b[38;5;241m.\u001b[39mLockException(exc_value, fh\u001b[38;5;241m=\u001b[39mfile_) \u001b[38;5;28;01mfrom\u001b[39;00m \u001b[38;5;21;01mexc_value\u001b[39;00m\n",
      "\u001b[0;31mLockException\u001b[0m: [Errno 35] Resource temporarily unavailable",
      "\nDuring handling of the above exception, another exception occurred:\n",
      "\u001b[0;31mRuntimeError\u001b[0m                              Traceback (most recent call last)",
      "Cell \u001b[0;32mIn[2], line 5\u001b[0m\n\u001b[1;32m      2\u001b[0m \u001b[38;5;28;01mfrom\u001b[39;00m \u001b[38;5;21;01mdotenv\u001b[39;00m \u001b[38;5;28;01mimport\u001b[39;00m load_dotenv\n\u001b[1;32m      3\u001b[0m load_dotenv()\n\u001b[0;32m----> 5\u001b[0m \u001b[38;5;28;01mfrom\u001b[39;00m \u001b[38;5;21;01mbackend\u001b[39;00m\u001b[38;5;21;01m.\u001b[39;00m\u001b[38;5;21;01mdatabase\u001b[39;00m \u001b[38;5;28;01mimport\u001b[39;00m LawArticle, law_book_db, CaseRecord, case_records_db\n",
      "File \u001b[0;32m~/uni/tc/ChatJustus/backend/backend/database/__init__.py:1\u001b[0m\n\u001b[0;32m----> 1\u001b[0m \u001b[38;5;28;01mfrom\u001b[39;00m \u001b[38;5;21;01m.\u001b[39;00m\u001b[38;5;21;01mschemas\u001b[39;00m \u001b[38;5;28;01mimport\u001b[39;00m Lawyer, ClientCase, Meeting, Dialog, LawArticle, CaseRecord, lawyers_db, client_cases_db, meetings_db, dialogs_db, law_book_db, case_records_db\n",
      "File \u001b[0;32m~/uni/tc/ChatJustus/backend/backend/database/schemas.py:4\u001b[0m\n\u001b[1;32m      1\u001b[0m \u001b[38;5;124;03m'''\u001b[39;00m\n\u001b[1;32m      2\u001b[0m \u001b[38;5;124;03mThis module defines the schemas and the databases\u001b[39;00m\n\u001b[1;32m      3\u001b[0m \u001b[38;5;124;03m'''\u001b[39;00m\n\u001b[0;32m----> 4\u001b[0m \u001b[38;5;28;01mfrom\u001b[39;00m \u001b[38;5;21;01m.\u001b[39;00m\u001b[38;5;21;01mcore\u001b[39;00m\u001b[38;5;21;01m.\u001b[39;00m\u001b[38;5;21;01mvector_db\u001b[39;00m \u001b[38;5;28;01mimport\u001b[39;00m VectorDB, EmbedData, EmbedField\n\u001b[1;32m      8\u001b[0m \u001b[38;5;66;03m#========== For General DB ==========#\u001b[39;00m\n\u001b[1;32m      9\u001b[0m \u001b[38;5;28;01mclass\u001b[39;00m \u001b[38;5;21;01mLawyer\u001b[39;00m(EmbedData):\n",
      "File \u001b[0;32m~/uni/tc/ChatJustus/backend/backend/database/core/vector_db.py:81\u001b[0m\n\u001b[1;32m     71\u001b[0m         \u001b[38;5;66;03m# transpose batch\u001b[39;00m\n\u001b[1;32m     72\u001b[0m         \u001b[38;5;28;01mreturn\u001b[39;00m [\n\u001b[1;32m     73\u001b[0m             {\n\u001b[1;32m     74\u001b[0m                 field_name: field_batch[i]\n\u001b[0;32m   (...)\u001b[0m\n\u001b[1;32m     77\u001b[0m             \u001b[38;5;28;01mfor\u001b[39;00m i \u001b[38;5;129;01min\u001b[39;00m \u001b[38;5;28mrange\u001b[39m(\u001b[38;5;28mlen\u001b[39m(batch))\n\u001b[1;32m     78\u001b[0m         ]\n\u001b[0;32m---> 81\u001b[0m \u001b[38;5;28;43;01mclass\u001b[39;49;00m\u001b[43m \u001b[49m\u001b[38;5;21;43;01mVectorDB\u001b[39;49;00m\u001b[43m:\u001b[49m\n\u001b[1;32m     82\u001b[0m \u001b[38;5;250;43m    \u001b[39;49m\u001b[38;5;124;43;03m'''\u001b[39;49;00m\n\u001b[1;32m     83\u001b[0m \u001b[38;5;124;43;03m    A vector database that stores \u001b[39;49;00m\n\u001b[1;32m     84\u001b[0m \u001b[38;5;124;43;03m    '''\u001b[39;49;00m\n\u001b[1;32m     85\u001b[0m \u001b[43m    \u001b[49m\u001b[43mglobal_client\u001b[49m\u001b[43m \u001b[49m\u001b[38;5;241;43m=\u001b[39;49m\u001b[43m \u001b[49m\u001b[43mQdrantClient\u001b[49m\u001b[43m(\u001b[49m\u001b[43mpath\u001b[49m\u001b[38;5;241;43m=\u001b[39;49m\u001b[38;5;124;43m\"\u001b[39;49m\u001b[38;5;124;43mstorage/qdrant\u001b[39;49m\u001b[38;5;124;43m\"\u001b[39;49m\u001b[43m)\u001b[49m\n",
      "File \u001b[0;32m~/uni/tc/ChatJustus/backend/backend/database/core/vector_db.py:85\u001b[0m, in \u001b[0;36mVectorDB\u001b[0;34m()\u001b[0m\n\u001b[1;32m     81\u001b[0m \u001b[38;5;28;01mclass\u001b[39;00m \u001b[38;5;21;01mVectorDB\u001b[39;00m:\n\u001b[1;32m     82\u001b[0m \u001b[38;5;250m    \u001b[39m\u001b[38;5;124;03m'''\u001b[39;00m\n\u001b[1;32m     83\u001b[0m \u001b[38;5;124;03m    A vector database that stores \u001b[39;00m\n\u001b[1;32m     84\u001b[0m \u001b[38;5;124;03m    '''\u001b[39;00m\n\u001b[0;32m---> 85\u001b[0m     global_client \u001b[38;5;241m=\u001b[39m \u001b[43mQdrantClient\u001b[49m\u001b[43m(\u001b[49m\u001b[43mpath\u001b[49m\u001b[38;5;241;43m=\u001b[39;49m\u001b[38;5;124;43m\"\u001b[39;49m\u001b[38;5;124;43mstorage/qdrant\u001b[39;49m\u001b[38;5;124;43m\"\u001b[39;49m\u001b[43m)\u001b[49m\n\u001b[1;32m     88\u001b[0m     \u001b[38;5;28;01mdef\u001b[39;00m \u001b[38;5;21m__init__\u001b[39m(\u001b[38;5;28mself\u001b[39m, name: \u001b[38;5;28mstr\u001b[39m, data_model: Type[EmbedData], client\u001b[38;5;241m=\u001b[39m\u001b[38;5;28;01mNone\u001b[39;00m, validate\u001b[38;5;241m=\u001b[39m\u001b[38;5;28;01mTrue\u001b[39;00m):\n\u001b[1;32m     89\u001b[0m         \u001b[38;5;28mself\u001b[39m\u001b[38;5;241m.\u001b[39mname \u001b[38;5;241m=\u001b[39m name\n",
      "File \u001b[0;32m~/anaconda3/envs/tc/lib/python3.12/site-packages/qdrant_client/qdrant_client.py:99\u001b[0m, in \u001b[0;36mQdrantClient.__init__\u001b[0;34m(self, location, url, port, grpc_port, prefer_grpc, https, api_key, prefix, timeout, host, path, force_disable_check_same_thread, **kwargs)\u001b[0m\n\u001b[1;32m     94\u001b[0m     \u001b[38;5;28mself\u001b[39m\u001b[38;5;241m.\u001b[39m_client \u001b[38;5;241m=\u001b[39m QdrantLocal(\n\u001b[1;32m     95\u001b[0m         location\u001b[38;5;241m=\u001b[39mlocation,\n\u001b[1;32m     96\u001b[0m         force_disable_check_same_thread\u001b[38;5;241m=\u001b[39mforce_disable_check_same_thread,\n\u001b[1;32m     97\u001b[0m     )\n\u001b[1;32m     98\u001b[0m \u001b[38;5;28;01melif\u001b[39;00m path \u001b[38;5;129;01mis\u001b[39;00m \u001b[38;5;129;01mnot\u001b[39;00m \u001b[38;5;28;01mNone\u001b[39;00m:\n\u001b[0;32m---> 99\u001b[0m     \u001b[38;5;28mself\u001b[39m\u001b[38;5;241m.\u001b[39m_client \u001b[38;5;241m=\u001b[39m \u001b[43mQdrantLocal\u001b[49m\u001b[43m(\u001b[49m\n\u001b[1;32m    100\u001b[0m \u001b[43m        \u001b[49m\u001b[43mlocation\u001b[49m\u001b[38;5;241;43m=\u001b[39;49m\u001b[43mpath\u001b[49m\u001b[43m,\u001b[49m\n\u001b[1;32m    101\u001b[0m \u001b[43m        \u001b[49m\u001b[43mforce_disable_check_same_thread\u001b[49m\u001b[38;5;241;43m=\u001b[39;49m\u001b[43mforce_disable_check_same_thread\u001b[49m\u001b[43m,\u001b[49m\n\u001b[1;32m    102\u001b[0m \u001b[43m    \u001b[49m\u001b[43m)\u001b[49m\n\u001b[1;32m    103\u001b[0m \u001b[38;5;28;01melse\u001b[39;00m:\n\u001b[1;32m    104\u001b[0m     \u001b[38;5;28;01mif\u001b[39;00m location \u001b[38;5;129;01mis\u001b[39;00m \u001b[38;5;129;01mnot\u001b[39;00m \u001b[38;5;28;01mNone\u001b[39;00m \u001b[38;5;129;01mand\u001b[39;00m url \u001b[38;5;129;01mis\u001b[39;00m \u001b[38;5;28;01mNone\u001b[39;00m:\n",
      "File \u001b[0;32m~/anaconda3/envs/tc/lib/python3.12/site-packages/qdrant_client/local/qdrant_local.py:48\u001b[0m, in \u001b[0;36mQdrantLocal.__init__\u001b[0;34m(self, location, force_disable_check_same_thread)\u001b[0m\n\u001b[1;32m     46\u001b[0m \u001b[38;5;28mself\u001b[39m\u001b[38;5;241m.\u001b[39maliases: Dict[\u001b[38;5;28mstr\u001b[39m, \u001b[38;5;28mstr\u001b[39m] \u001b[38;5;241m=\u001b[39m {}\n\u001b[1;32m     47\u001b[0m \u001b[38;5;28mself\u001b[39m\u001b[38;5;241m.\u001b[39m_flock_file: Optional[TextIOWrapper] \u001b[38;5;241m=\u001b[39m \u001b[38;5;28;01mNone\u001b[39;00m\n\u001b[0;32m---> 48\u001b[0m \u001b[38;5;28;43mself\u001b[39;49m\u001b[38;5;241;43m.\u001b[39;49m\u001b[43m_load\u001b[49m\u001b[43m(\u001b[49m\u001b[43m)\u001b[49m\n\u001b[1;32m     49\u001b[0m \u001b[38;5;28mself\u001b[39m\u001b[38;5;241m.\u001b[39m_closed: \u001b[38;5;28mbool\u001b[39m \u001b[38;5;241m=\u001b[39m \u001b[38;5;28;01mFalse\u001b[39;00m\n",
      "File \u001b[0;32m~/anaconda3/envs/tc/lib/python3.12/site-packages/qdrant_client/local/qdrant_local.py:94\u001b[0m, in \u001b[0;36mQdrantLocal._load\u001b[0;34m(self)\u001b[0m\n\u001b[1;32m     89\u001b[0m     portalocker\u001b[38;5;241m.\u001b[39mlock(\n\u001b[1;32m     90\u001b[0m         \u001b[38;5;28mself\u001b[39m\u001b[38;5;241m.\u001b[39m_flock_file,\n\u001b[1;32m     91\u001b[0m         portalocker\u001b[38;5;241m.\u001b[39mLockFlags\u001b[38;5;241m.\u001b[39mEXCLUSIVE \u001b[38;5;241m|\u001b[39m portalocker\u001b[38;5;241m.\u001b[39mLockFlags\u001b[38;5;241m.\u001b[39mNON_BLOCKING,\n\u001b[1;32m     92\u001b[0m     )\n\u001b[1;32m     93\u001b[0m \u001b[38;5;28;01mexcept\u001b[39;00m portalocker\u001b[38;5;241m.\u001b[39mexceptions\u001b[38;5;241m.\u001b[39mLockException:\n\u001b[0;32m---> 94\u001b[0m     \u001b[38;5;28;01mraise\u001b[39;00m \u001b[38;5;167;01mRuntimeError\u001b[39;00m(\n\u001b[1;32m     95\u001b[0m         \u001b[38;5;124mf\u001b[39m\u001b[38;5;124m\"\u001b[39m\u001b[38;5;124mStorage folder \u001b[39m\u001b[38;5;132;01m{\u001b[39;00m\u001b[38;5;28mself\u001b[39m\u001b[38;5;241m.\u001b[39mlocation\u001b[38;5;132;01m}\u001b[39;00m\u001b[38;5;124m is already accessed by another instance of Qdrant client.\u001b[39m\u001b[38;5;124m\"\u001b[39m\n\u001b[1;32m     96\u001b[0m         \u001b[38;5;124mf\u001b[39m\u001b[38;5;124m\"\u001b[39m\u001b[38;5;124m If you require concurrent access, use Qdrant server instead.\u001b[39m\u001b[38;5;124m\"\u001b[39m\n\u001b[1;32m     97\u001b[0m     )\n",
      "\u001b[0;31mRuntimeError\u001b[0m: Storage folder storage/qdrant is already accessed by another instance of Qdrant client. If you require concurrent access, use Qdrant server instead."
     ]
    }
   ],
   "source": [
    "import json\n",
    "from dotenv import load_dotenv\n",
    "load_dotenv()\n",
    "\n",
    "from backend.database import LawArticle, law_book_db, CaseRecord, case_records_db"
   ]
  },
  {
   "cell_type": "markdown",
   "metadata": {},
   "source": [
    "## XML -> JSON"
   ]
  },
  {
   "cell_type": "code",
   "execution_count": null,
   "metadata": {},
   "outputs": [],
   "source": [
    "import xml.etree.ElementTree as ET\n",
    "\n",
    "# Load the XML file\n",
    "xml_files = [\n",
    "    \"data/BJNR001950896.xml\",\n",
    "    \"data/BJNR005330950.xml\",\n",
    "    \"data/BJNR258700008.xml\",\n",
    "]\n",
    "\n",
    "for xml_file in xml_files:\n",
    "    for xml_file in xml_files:\n",
    "        # Load the XML file\n",
    "        tree = ET.parse(xml_file)\n",
    "        root = tree.getroot()\n",
    "\n",
    "        # List to store extracted information for the current XML file\n",
    "        sections = []\n",
    "\n",
    "\n",
    "        # Iterate through each 'norm' element in the XML\n",
    "        for norm_element in root.findall(\"norm\"):\n",
    "            metadaten = norm_element.find(\"metadaten\")\n",
    "            textdaten = norm_element.find(\"textdaten/text/Content/P\")\n",
    "            enbez_element = metadaten.find(\"enbez\")\n",
    "            title_element = metadaten.find(\"titel\")\n",
    "\n",
    "\n",
    "            # Extract relevant information\n",
    "            jurabk = metadaten.find(\"jurabk\").text\n",
    "            enbez = enbez_element.text if enbez_element is not None and enbez_element.text is not None else \"\"\n",
    "            titel = title_element.text if title_element is not None and title_element.text is not None else \"\"\n",
    "            content = textdaten.text if textdaten is not None else \"\"\n",
    "\n",
    "            # Create a dictionary with extracted information\n",
    "            section_info = {\"jurabk\": jurabk, \"enbez\": enbez, \"titel\": titel, \"content\": content}\n",
    "\n",
    "            # Append the dictionary to the list\n",
    "            sections.append(section_info)\n",
    "        import json\n",
    "        # Create a JSON file for the current XML file\n",
    "        json_filename = f\"{xml_file.split('/')[-1].replace('.xml', '_output.json')}\"\n",
    "        with open(json_filename, \"w\", encoding=\"utf-8\") as json_file:\n",
    "            json.dump(sections, json_file, ensure_ascii=False, indent=2)\n",
    "            "
   ]
  },
  {
   "cell_type": "markdown",
   "metadata": {},
   "source": [
    "## JSON -> LawBook DB"
   ]
  },
  {
   "cell_type": "code",
   "execution_count": 1,
   "metadata": {},
   "outputs": [],
   "source": [
    "def load_lawbook(book):\n",
    "    BGB, ZPO, FamFG = None, None, None  \n",
    "\n",
    "    with open('data/BJNR001950896_output.json', 'r') as f:\n",
    "        BGB_data = json.load(f)\n",
    "        BGB = [\n",
    "            LawArticle(\n",
    "                book=article['jurabk'],\n",
    "                article_number=article['enbez'],\n",
    "                title=article['titel'],\n",
    "                content=article['content']\n",
    "            )\n",
    "            for article in BGB_data\n",
    "            if article['jurabk'] == 'BGB'\n",
    "            and article.get('enbez')\n",
    "            and article.get('titel')\n",
    "            and article.get('content')\n",
    "        ]\n",
    "\n",
    "    with open('data/BJNR005330950_output.json', 'r') as f:\n",
    "        ZPO_data = json.load(f)\n",
    "        ZPO = [\n",
    "            LawArticle(\n",
    "                book=article['jurabk'],\n",
    "                article_number=article['enbez'],\n",
    "                title=article['titel'],\n",
    "                content=article['content']\n",
    "            )\n",
    "            for article in ZPO_data\n",
    "            if article['jurabk'] == 'ZPO'\n",
    "            and article.get('enbez')\n",
    "            and article.get('titel')\n",
    "            and article.get('content')\n",
    "        ]\n",
    "    \n",
    "    with open('data/BJNR258700008_output.json', 'r') as f:\n",
    "        FamFG_data = json.load(f)\n",
    "        FamFG = [\n",
    "            LawArticle(\n",
    "                book=article['jurabk'],\n",
    "                article_number=article['enbez'],\n",
    "                title=article['titel'],\n",
    "                content=article['content']\n",
    "            )\n",
    "            for article in FamFG_data\n",
    "            if article['jurabk'] == 'FamFG'\n",
    "            and article.get('enbez')\n",
    "            and article.get('titel')\n",
    "            and article.get('content')\n",
    "        ]\n",
    "\n",
    "    legal_text_by_book = {\n",
    "        'BGB': BGB,\n",
    "        'ZPO': ZPO, \n",
    "        'FamFG': FamFG\n",
    "    }\n",
    "\n",
    "    return legal_text_by_book.get(book, [])"
   ]
  },
  {
   "cell_type": "code",
   "execution_count": null,
   "metadata": {},
   "outputs": [],
   "source": [
    "books = ['BGB', 'ZPO', 'FamFG']\n",
    "\n",
    "for book in books:\n",
    "    law_articles = load_lawbook(book)\n",
    "    law_db = law_book_db(book)\n",
    "    law_db.reset() # reset if exists\n",
    "    if book == 'BGB':\n",
    "        batch_size = 200\n",
    "        for i in range(0, len(law_articles), batch_size):\n",
    "            law_db.add(law_articles[i:i+batch_size])\n",
    "    else:\n",
    "        law_db.add(law_articles)    "
   ]
  }
 ],
 "metadata": {
  "kernelspec": {
   "display_name": "tc",
   "language": "python",
   "name": "python3"
  },
  "language_info": {
   "codemirror_mode": {
    "name": "ipython",
    "version": 3
   },
   "file_extension": ".py",
   "mimetype": "text/x-python",
   "name": "python",
   "nbconvert_exporter": "python",
   "pygments_lexer": "ipython3",
   "version": "3.12.0"
  }
 },
 "nbformat": 4,
 "nbformat_minor": 2
}
