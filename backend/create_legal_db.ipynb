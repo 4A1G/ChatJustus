{
 "cells": [
  {
   "cell_type": "markdown",
   "metadata": {},
   "source": [
    "# Create Legal DB\n",
    "\n",
    "This notebook takes the raw XML data, converts it to JSON, and then creates a VectorDB from it."
   ]
  },
  {
   "cell_type": "code",
   "execution_count": 1,
   "metadata": {},
   "outputs": [],
   "source": [
    "import json\n",
    "from dotenv import load_dotenv\n",
    "load_dotenv()\n",
    "\n",
    "from backend.database import LawArticle, law_book_db, CaseRecord, case_records_db"
   ]
  },
  {
   "cell_type": "markdown",
   "metadata": {},
   "source": [
    "## XML -> JSON"
   ]
  },
  {
   "cell_type": "code",
   "execution_count": 2,
   "metadata": {},
   "outputs": [],
   "source": [
    "import xml.etree.ElementTree as ET\n",
    "\n",
    "# Load the XML file\n",
    "xml_files = [\n",
    "    \"data/BJNR001950896.xml\",\n",
    "    \"data/BJNR005330950.xml\",\n",
    "    \"data/BJNR258700008.xml\",\n",
    "]\n",
    "\n",
    "for xml_file in xml_files:\n",
    "    for xml_file in xml_files:\n",
    "        # Load the XML file\n",
    "        tree = ET.parse(xml_file)\n",
    "        root = tree.getroot()\n",
    "\n",
    "        # List to store extracted information for the current XML file\n",
    "        sections = []\n",
    "\n",
    "\n",
    "        # Iterate through each 'norm' element in the XML\n",
    "        for norm_element in root.findall(\"norm\"):\n",
    "            metadaten = norm_element.find(\"metadaten\")\n",
    "            textdaten = norm_element.find(\"textdaten/text/Content/P\")\n",
    "            enbez_element = metadaten.find(\"enbez\")\n",
    "            title_element = metadaten.find(\"titel\")\n",
    "\n",
    "\n",
    "            # Extract relevant information\n",
    "            jurabk = metadaten.find(\"jurabk\").text\n",
    "            enbez = enbez_element.text if enbez_element is not None and enbez_element.text is not None else \"\"\n",
    "            titel = title_element.text if title_element is not None and title_element.text is not None else \"\"\n",
    "            content = textdaten.text if textdaten is not None else \"\"\n",
    "\n",
    "            # Create a dictionary with extracted information\n",
    "            section_info = {\"jurabk\": jurabk, \"enbez\": enbez, \"titel\": titel, \"content\": content}\n",
    "\n",
    "            # Append the dictionary to the list\n",
    "            sections.append(section_info)\n",
    "        import json\n",
    "        # Create a JSON file for the current XML file\n",
    "        json_filename = f\"{xml_file.replace('.xml', '_output.json')}\"\n",
    "        with open(json_filename, \"w\", encoding=\"utf-8\") as json_file:\n",
    "            json.dump(sections, json_file, ensure_ascii=False, indent=2)\n",
    "            "
   ]
  },
  {
   "cell_type": "markdown",
   "metadata": {},
   "source": [
    "## JSON -> LawBook DB"
   ]
  },
  {
   "cell_type": "code",
   "execution_count": 3,
   "metadata": {},
   "outputs": [],
   "source": [
    "def load_lawbook(book):\n",
    "    BGB, ZPO, FamFG = None, None, None  \n",
    "\n",
    "    with open('data/BJNR001950896_output.json', 'r') as f:\n",
    "        BGB_data = json.load(f)\n",
    "        BGB = [\n",
    "            LawArticle(\n",
    "                book=article['jurabk'],\n",
    "                article_number=article['enbez'],\n",
    "                title=article['titel'],\n",
    "                content=article['content']\n",
    "            )\n",
    "            for article in BGB_data\n",
    "            if article['jurabk'] == 'BGB'\n",
    "            and article.get('enbez')\n",
    "            and article.get('titel')\n",
    "            and article.get('content')\n",
    "        ]\n",
    "\n",
    "    with open('data/BJNR005330950_output.json', 'r') as f:\n",
    "        ZPO_data = json.load(f)\n",
    "        ZPO = [\n",
    "            LawArticle(\n",
    "                book=article['jurabk'],\n",
    "                article_number=article['enbez'],\n",
    "                title=article['titel'],\n",
    "                content=article['content']\n",
    "            )\n",
    "            for article in ZPO_data\n",
    "            if article['jurabk'] == 'ZPO'\n",
    "            and article.get('enbez')\n",
    "            and article.get('titel')\n",
    "            and article.get('content')\n",
    "        ]\n",
    "    \n",
    "    with open('data/BJNR258700008_output.json', 'r') as f:\n",
    "        FamFG_data = json.load(f)\n",
    "        FamFG = [\n",
    "            LawArticle(\n",
    "                book=article['jurabk'],\n",
    "                article_number=article['enbez'],\n",
    "                title=article['titel'],\n",
    "                content=article['content']\n",
    "            )\n",
    "            for article in FamFG_data\n",
    "            if article['jurabk'] == 'FamFG'\n",
    "            and article.get('enbez')\n",
    "            and article.get('titel')\n",
    "            and article.get('content')\n",
    "        ]\n",
    "\n",
    "    legal_text_by_book = {\n",
    "        'BGB': BGB,\n",
    "        'ZPO': ZPO, \n",
    "        'FamFG': FamFG\n",
    "    }\n",
    "\n",
    "    return legal_text_by_book.get(book, [])"
   ]
  },
  {
   "cell_type": "code",
   "execution_count": 4,
   "metadata": {},
   "outputs": [
    {
     "name": "stdout",
     "output_type": "stream",
     "text": [
      "Creating collection ZPO\n",
      "Creating collection FamFG\n"
     ]
    }
   ],
   "source": [
    "books = ['BGB', 'ZPO', 'FamFG']\n",
    "\n",
    "for book in books:\n",
    "    law_articles = load_lawbook(book)\n",
    "    law_db = law_book_db(book)\n",
    "    law_db.reset() # reset if exists\n",
    "    if book == 'BGB':\n",
    "        batch_size = 200\n",
    "        for i in range(0, len(law_articles), batch_size):\n",
    "            law_db.add(law_articles[i:i+batch_size])\n",
    "    else:\n",
    "        law_db.add(law_articles)    "
   ]
  }
 ],
 "metadata": {
  "kernelspec": {
   "display_name": "tc",
   "language": "python",
   "name": "python3"
  },
  "language_info": {
   "codemirror_mode": {
    "name": "ipython",
    "version": 3
   },
   "file_extension": ".py",
   "mimetype": "text/x-python",
   "name": "python",
   "nbconvert_exporter": "python",
   "pygments_lexer": "ipython3",
   "version": "3.12.0"
  }
 },
 "nbformat": 4,
 "nbformat_minor": 2
}
