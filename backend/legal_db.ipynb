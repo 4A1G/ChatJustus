{
 "cells": [
  {
   "cell_type": "code",
   "execution_count": 2,
   "metadata": {},
   "outputs": [
    {
     "data": {
      "text/plain": [
       "True"
      ]
     },
     "execution_count": 2,
     "metadata": {},
     "output_type": "execute_result"
    }
   ],
   "source": [
    "# load environment variables from .env file\n",
    "from dotenv import load_dotenv\n",
    "load_dotenv(override=True)"
   ]
  },
  {
   "cell_type": "markdown",
   "metadata": {},
   "source": [
    "# Database"
   ]
  },
  {
   "cell_type": "code",
   "execution_count": 3,
   "metadata": {},
   "outputs": [],
   "source": [
    "from backend.database.embedding import MockEmbedding, OpenAIEmbedding\n",
    "from backend.database.vector_db import VectorDB, EmbedData, Field, EmbedField\n",
    "import json"
   ]
  },
  {
   "cell_type": "code",
   "execution_count": 4,
   "metadata": {},
   "outputs": [],
   "source": [
    "class Dialog(EmbedData):\n",
    "    speaker: str\n",
    "    content: str = EmbedField()\n",
    "\n",
    "\n",
    "class Meeting(EmbedData):\n",
    "    timestamp: int # unix timestamp, serves as id\n",
    "    \n",
    "    # AI-generated\n",
    "    title: str # shown on the sidebar\n",
    "    summary: str = EmbedField() # shown at the beginning of after-meeting \n",
    "    \n",
    "    \n",
    "class LawArticle(EmbedData):\n",
    "    book: str\n",
    "    article_number: str\n",
    "    title: str\n",
    "    content: str = EmbedField()\n",
    "    \n",
    "    \n",
    "class CaseRecord(EmbedData):\n",
    "    timestamp: int # unix timestamp\n",
    "    title: str\n",
    "    content: str = EmbedField()"
   ]
  },
  {
   "cell_type": "markdown",
   "metadata": {},
   "source": [
    "## Creating a mocked database"
   ]
  },
  {
   "cell_type": "code",
   "execution_count": 4,
   "metadata": {},
   "outputs": [],
   "source": [
    "def get_dialogs(case_id, meeting_timestamp):\n",
    "    dialogs_by_case = {\n",
    "        'JUSTICIUS-MARCO_2023-11-13': [\n",
    "    Dialog(speaker=\"Justicius\", content=\"Hello, I'm Justicius, your divorce attorney. Nice to meet you, Marco!\"),\n",
    "    Dialog(speaker=\"Marco\", content=\"Hey, Justicius. Pleasure to meet you too.\"),\n",
    "    Dialog(speaker=\"Justicius\", content=\"As we discussed on the phone, I'll be representing you in your divorce case. How can I assist you further, Marco?\"),\n",
    "    Dialog(speaker=\"Marco\", content=\"I'm in need of guidance on the overall strategy for my divorce proceedings.\"),\n",
    "    Dialog(speaker=\"Justicius\", content=\"Certainly, Marco. Can you share any specific concerns or priorities you have for the divorce proceedings?\"),\n",
    "    Dialog(speaker=\"Marco\", content=\"Well, I want to ensure a fair division of assets and a smooth resolution, considering we've already discussed the details on the phone.\"),\n",
    "    Dialog(speaker=\"Justicius\", content=\"Understood, Marco. We'll work towards achieving a fair settlement. Now, let's discuss the strategy. Regarding fees, my hourly rate is 250 euros. I will provide you with detailed invoices, and I'll ensure transparency in tracking the time spent on your case. Additionally, I can provide you with a document outlining the fee structure for your reference.\"),\n",
    "    Dialog(speaker=\"Marco\", content=\"Sounds good. I appreciate your flexibility. Regarding the lawyer's fees, how do you usually structure payments?\"),\n",
    "    Dialog(speaker=\"Justicius\", content=\"Typically, clients pay a retainer upfront, and then I bill against that retainer on an hourly basis. If a flat fee arrangement works better for you, we can certainly explore that option. What are your preferences, Marco?\"),\n",
    "    Dialog(speaker=\"Marco\", content=\"I think a flat fee would provide more predictability for me. Can we discuss the details of what that would cover and any potential additional costs?\"),\n",
    "    Dialog(speaker=\"Justicius\", content=\"Certainly, Marco. We'll outline the scope of work covered by the flat fee, including court filings, consultations, and other necessary tasks. Any additional costs, such as court fees, will be discussed transparently. Now, let's move on to the strategy discussion.\"),\n",
    "    Dialog(speaker=\"Marco\", content=\"Great. I appreciate the clarity. Regarding the strategy, what steps do you propose in handling my divorce case?\"),\n",
    "    Dialog(speaker=\"Justicius\", content=\"First, I'll review all the relevant documentation. We'll strategize on the best approach to secure your interests, keeping your priorities in mind. I'll keep you informed at every step of the process.\"),\n",
    "    Dialog(speaker=\"Marco\", content=\"That's reassuring. How long do you estimate the divorce process will take, given our prior discussions?\"),\n",
    "    Dialog(speaker=\"Justicius\", content=\"The timeline depends on various factors, but I'll provide you with a more accurate estimate as we progress. Rest assured, I'll work diligently to expedite the process.\"),\n",
    "    Dialog(speaker=\"Marco\", content=\"Good to know. How often can we expect meetings or updates on the progress of my divorce case?\"),\n",
    "    Dialog(speaker=\"Justicius\", content=\"I suggest a check-in in two weeks to discuss updates and address any concerns. Additionally, we have a chatbot tool called ChatJustus that will assist you with follow-up questions and updates. It's available 24/7 for your convenience.\"),\n",
    "    Dialog(speaker=\"Marco\", content=\"That works for me. Let's move forward with the representation. Do you need any further information from me at this stage?\"),\n",
    "    Dialog(speaker=\"Justicius\", content=\"I'll need copies of the relevant documents, including your marriage certificate, financial statements, and any existing prenuptial or postnuptial agreements. Additionally, we'll finalize the details of the flat fee arrangement, and I'll provide you with the separate document on fees. I'm looking forward to working together, Marco.\"),\n",
    "    Dialog(speaker=\"Marco\", content=\"Likewise. Thanks for taking on my divorce case. I'll provide the necessary documents, and we can finalize the fee arrangement. I'm relieved to have you on my side.\"),\n",
    "    Dialog(speaker=\"Justicius\", content=\"It's my pleasure, Marco. I'm here to advocate for your best interests throughout the divorce process. Feel free to reach out if you have any questions before our next meeting.\"),\n",
    "    Dialog(speaker=\"Marco\", content=\"Thank you, I will. Looking forward to a smooth resolution.\"),\n",
    "    Dialog(speaker=\"Justicius\", content=\"Likewise, Marco. Have a great day, and we'll be in touch soon.\")\n",
    "],\n",
    "        'JUSTICIUS-MARCO_2023-11-27': [\n",
    "    Dialog(speaker=\"Justicius\", content=\"Good day, Marco! I trust everything has been going smoothly since our last discussion.\"),\n",
    "    Dialog(speaker=\"Marco\", content=\"Hello, Justicius! Yes, everything's been fine. I've had some time to review the documents we discussed, and I'm ready for our next steps.\"),\n",
    "    Dialog(speaker=\"Justicius\", content=\"Excellent. I'm glad to hear that. Let's delve into the details. I've thoroughly reviewed the documents you provided, including your marriage certificate and financial statements. It's essential to have a comprehensive understanding of your situation.\"),\n",
    "    Dialog(speaker=\"Marco\", content=\"I appreciate your thoroughness, Justicius. Is there anything specific you need from me at this point?\"),\n",
    "    Dialog(speaker=\"Justicius\", content=\"Not at the moment. You've done a great job compiling the necessary information. In our current discussion, let's focus on the key elements of our divorce strategy. One significant aspect is addressing potential challenges that may arise, such as disagreements on asset division, spousal support, or child custody. By anticipating these challenges now, we can formulate proactive solutions.\"),\n",
    "    Dialog(speaker=\"Marco\", content=\"That sounds important, Justicius. What strategies do you propose for handling potential disagreements on asset division?\"),\n",
    "    Dialog(speaker=\"Justicius\", content=\"For asset division, it's crucial to establish a clear inventory of shared assets and debts. During our strategy discussions, we'll delve into detailed negotiation approaches, considering your priorities and what's fair and equitable. If needed, we can explore mediation or alternative dispute resolution methods to find common ground.\"),\n",
    "    Dialog(speaker=\"Marco\", content=\"I see. And what about potential challenges regarding spousal support?\"),\n",
    "    Dialog(speaker=\"Justicius\", content=\"Spousal support considerations vary widely. We'll examine your financial situation and your spouse's to determine a fair arrangement. This involves calculating factors like income, earning capacity, and the duration of the marriage. By addressing these details upfront, we aim to minimize disputes and streamline the process.\"),\n",
    "    Dialog(speaker=\"Marco\", content=\"That makes sense. Child custody is also a concern. How can we approach that?\"),\n",
    "    Dialog(speaker=\"Justicius\", content=\"Child custody matters are sensitive. Our strategy involves crafting a parenting plan that prioritizes the child's best interests. We'll discuss factors like the child's relationship with each parent, living arrangements, and visitation schedules. By being proactive and considering the child's well-being, we aim to create a plan that both parties find acceptable.\"),\n",
    "    Dialog(speaker=\"Marco\", content=\"I appreciate the detailed insight, Justicius. It's reassuring to know we're being proactive about potential challenges.\"),\n",
    "    Dialog(speaker=\"Marco\", content=\"Also, I've found ChatJustus to be quite helpful. It's available 24/7 for quick updates or questions, providing additional convenience.\"),\n",
    "    Dialog(speaker=\"Justicius\", content=\"I'm glad to hear that, Marco. ChatJustus is indeed a valuable resource. Strategy is key in navigating a divorce, and having ChatJustus at your disposal ensures continuous support. Our goal is to approach each aspect thoughtfully, addressing potential issues before they become major obstacles. If you have any specific concerns or preferences in these areas, feel free to share them, and we'll incorporate them into our strategy.\"),\n",
    "    Dialog(speaker=\"Marco\", content=\"Thank you, Justicius. I feel more informed and confident about the road ahead. Let's continue developing our strategy.\"),\n",
    "    Dialog(speaker=\"Justicius\", content=\"Certainly, Marco. Your input is valuable as we tailor our approach to your unique situation. Remember, open communication is crucial throughout this process. If you have any questions or thoughts between our scheduled meetings, don't hesitate to reach out via ChatJustus or directly. We're here to support you.\"),\n",
    "    Dialog(speaker=\"Marco\", content=\"I appreciate that, Justicius. Looking forward to crafting a solid strategy together. Have a great day!\"),\n",
    "    Dialog(speaker=\"Justicius\", content=\"You too, Marco. We'll be in touch soon.\")\n",
    "]\n",
    "    }\n",
    "\n",
    "    \n",
    "    key = f\"{case_id}_{meeting_timestamp}\"\n",
    "\n",
    "    \n",
    "    return dialogs_by_case.get(key, [])"
   ]
  },
  {
   "cell_type": "code",
   "execution_count": 5,
   "metadata": {},
   "outputs": [
    {
     "name": "stdout",
     "output_type": "stream",
     "text": [
      "Creating collection Dialog_JUSTICIUS-MARCO_2023-11-13\n"
     ]
    }
   ],
   "source": [
    "case_id = 'JUSTICIUS-MARCO'\n",
    "meeting_timestamp = '2023-11-13'\n",
    "\n",
    "dialogs = get_dialogs(case_id, meeting_timestamp)\n",
    "\n",
    "dialog_db_1 = VectorDB(f\"Dialog_{case_id}_{meeting_timestamp}\", Dialog)\n",
    "dialog_db_1.reset() # reset if exists\n",
    "dialog_db_1.add(dialogs)"
   ]
  },
  {
   "cell_type": "code",
   "execution_count": 6,
   "metadata": {},
   "outputs": [
    {
     "name": "stdout",
     "output_type": "stream",
     "text": [
      "Creating collection Dialog_JUSTICIUS-MARCO_2023-11-27\n"
     ]
    }
   ],
   "source": [
    "case_id = 'JUSTICIUS-MARCO'\n",
    "meeting_timestamp = '2023-11-27'\n",
    "\n",
    "dialogs = get_dialogs(case_id, meeting_timestamp)\n",
    "\n",
    "dialog_db_2 = VectorDB(f\"Dialog_{case_id}_{meeting_timestamp}\", Dialog)\n",
    "dialog_db_2.reset() # reset if exists\n",
    "dialog_db_2.add(dialogs)"
   ]
  },
  {
   "cell_type": "markdown",
   "metadata": {},
   "source": [
    "# Querying after DB creation"
   ]
  },
  {
   "cell_type": "code",
   "execution_count": 7,
   "metadata": {},
   "outputs": [],
   "source": [
    "def to_timestamp(meeting_timestamp):\n",
    "    import datetime\n",
    "    date_object = datetime.datetime.strptime(meeting_timestamp, '%Y-%m-%d')\n",
    "    return int(date_object.timestamp())"
   ]
  },
  {
   "cell_type": "code",
   "execution_count": null,
   "metadata": {},
   "outputs": [],
   "source": [
    "def format_query_result(query_result):\n",
    "    return \"\\n...\\n\".join(f\"{d.speaker}: {d.content}\" for d in query_result if d.speaker == \"Justicius\")\n",
    "    "
   ]
  },
  {
   "cell_type": "markdown",
   "metadata": {},
   "source": [
    "## Meeting Summary Generation"
   ]
  },
  {
   "cell_type": "code",
   "execution_count": 10,
   "metadata": {},
   "outputs": [],
   "source": [
    "case_id = 'JUSTICIUS-MARCO'\n",
    "meeting_timestamp = '2023-11-27'\n",
    "\n",
    "def format_dialogs(dialogs: list[Dialog]):\n",
    "    return \"\\n\".join([f\"{d.speaker}: {d.content}\" for d in dialogs])\n",
    "\n",
    "formatted_dialog = format_dialogs(get_dialogs(case_id, meeting_timestamp))"
   ]
  },
  {
   "cell_type": "code",
   "execution_count": 11,
   "metadata": {},
   "outputs": [
    {
     "name": "stdout",
     "output_type": "stream",
     "text": [
      "Justicius: Good day, Marco! I trust everything has been going smoothly since our last discussion.\n",
      "Marco: Hello, Justicius! Yes, everything's been fine. I've had some time to review the documents we discussed, and I'm ready for our next steps.\n",
      "Justicius: Excellent. I'm glad to hear that. Let's delve into the details. I've thoroughly reviewed the documents you provided, including your marriage certificate and financial statements. It's essential to have a comprehensive understanding of your situation.\n",
      "Marco: I appreciate your thoroughness, Justicius. Is there anything specific you need from me at this point?\n",
      "Justicius: Not at the moment. You've done a great job compiling the necessary information. In our current discussion, let's focus on the key elements of our divorce strategy. One significant aspect is addressing potential challenges that may arise, such as disagreements on asset division, spousal support, or child custody. By anticipating these challenges now, we can formulate proactive solutions.\n",
      "Marco: That sounds important, Justicius. What strategies do you propose for handling potential disagreements on asset division?\n",
      "Justicius: For asset division, it's crucial to establish a clear inventory of shared assets and debts. During our strategy discussions, we'll delve into detailed negotiation approaches, considering your priorities and what's fair and equitable. If needed, we can explore mediation or alternative dispute resolution methods to find common ground.\n",
      "Marco: I see. And what about potential challenges regarding spousal support?\n",
      "Justicius: Spousal support considerations vary widely. We'll examine your financial situation and your spouse's to determine a fair arrangement. This involves calculating factors like income, earning capacity, and the duration of the marriage. By addressing these details upfront, we aim to minimize disputes and streamline the process.\n",
      "Marco: That makes sense. Child custody is also a concern. How can we approach that?\n",
      "Justicius: Child custody matters are sensitive. Our strategy involves crafting a parenting plan that prioritizes the child's best interests. We'll discuss factors like the child's relationship with each parent, living arrangements, and visitation schedules. By being proactive and considering the child's well-being, we aim to create a plan that both parties find acceptable.\n",
      "Marco: I appreciate the detailed insight, Justicius. It's reassuring to know we're being proactive about potential challenges.\n",
      "Marco: Also, I've found ChatJustus to be quite helpful. It's available 24/7 for quick updates or questions, providing additional convenience.\n",
      "Justicius: I'm glad to hear that, Marco. ChatJustus is indeed a valuable resource. Strategy is key in navigating a divorce, and having ChatJustus at your disposal ensures continuous support. Our goal is to approach each aspect thoughtfully, addressing potential issues before they become major obstacles. If you have any specific concerns or preferences in these areas, feel free to share them, and we'll incorporate them into our strategy.\n",
      "Marco: Thank you, Justicius. I feel more informed and confident about the road ahead. Let's continue developing our strategy.\n",
      "Justicius: Certainly, Marco. Your input is valuable as we tailor our approach to your unique situation. Remember, open communication is crucial throughout this process. If you have any questions or thoughts between our scheduled meetings, don't hesitate to reach out via ChatJustus or directly. We're here to support you.\n",
      "Marco: I appreciate that, Justicius. Looking forward to crafting a solid strategy together. Have a great day!\n",
      "Justicius: You too, Marco. We'll be in touch soon.\n"
     ]
    }
   ],
   "source": [
    "print(formatted_dialog)"
   ]
  },
  {
   "cell_type": "code",
   "execution_count": 16,
   "metadata": {},
   "outputs": [
    {
     "name": "stdout",
     "output_type": "stream",
     "text": [
      "[User]: The following is a full trasncript of a legal meeting between the lawyer Justicius and his client Marco.\n",
      "Please summarize for the client Marco, the 3 most important points of the meeting to be reminded about.\n",
      "You MUST address Marco directly in your summary! Start the summary with \"In your last meeting...\" and end by 1 sentence asking if he has any questions about the meeting.\n",
      "Use markdown formatting and bullet points.\n",
      "\n",
      "[Trascript]:\n",
      "Justicius: Good day, Marco! I trust everything has been going smoothly since our last discussion.\n",
      "Marco: Hello, Justicius! Yes, everything's been fine. I've had some time to review the documents we discussed, and I'm ready for our next steps.\n",
      "Justicius: Excellent. I'm glad to hear that. Let's delve into the details. I've thoroughly reviewed the documents you provided, including your marriage certificate and financial statements. It's essential to have a comprehensive understanding of your situation.\n",
      "Marco: I appreciate your thoroughness, Justicius. Is there anything specific you need from me at this point?\n",
      "Justicius: Not at the moment. You've done a great job compiling the necessary information. In our current discussion, let's focus on the key elements of our divorce strategy. One significant aspect is addressing potential challenges that may arise, such as disagreements on asset division, spousal support, or child custody. By anticipating these challenges now, we can formulate proactive solutions.\n",
      "Marco: That sounds important, Justicius. What strategies do you propose for handling potential disagreements on asset division?\n",
      "Justicius: For asset division, it's crucial to establish a clear inventory of shared assets and debts. During our strategy discussions, we'll delve into detailed negotiation approaches, considering your priorities and what's fair and equitable. If needed, we can explore mediation or alternative dispute resolution methods to find common ground.\n",
      "Marco: I see. And what about potential challenges regarding spousal support?\n",
      "Justicius: Spousal support considerations vary widely. We'll examine your financial situation and your spouse's to determine a fair arrangement. This involves calculating factors like income, earning capacity, and the duration of the marriage. By addressing these details upfront, we aim to minimize disputes and streamline the process.\n",
      "Marco: That makes sense. Child custody is also a concern. How can we approach that?\n",
      "Justicius: Child custody matters are sensitive. Our strategy involves crafting a parenting plan that prioritizes the child's best interests. We'll discuss factors like the child's relationship with each parent, living arrangements, and visitation schedules. By being proactive and considering the child's well-being, we aim to create a plan that both parties find acceptable.\n",
      "Marco: I appreciate the detailed insight, Justicius. It's reassuring to know we're being proactive about potential challenges.\n",
      "Marco: Also, I've found ChatJustus to be quite helpful. It's available 24/7 for quick updates or questions, providing additional convenience.\n",
      "Justicius: I'm glad to hear that, Marco. ChatJustus is indeed a valuable resource. Strategy is key in navigating a divorce, and having ChatJustus at your disposal ensures continuous support. Our goal is to approach each aspect thoughtfully, addressing potential issues before they become major obstacles. If you have any specific concerns or preferences in these areas, feel free to share them, and we'll incorporate them into our strategy.\n",
      "Marco: Thank you, Justicius. I feel more informed and confident about the road ahead. Let's continue developing our strategy.\n",
      "Justicius: Certainly, Marco. Your input is valuable as we tailor our approach to your unique situation. Remember, open communication is crucial throughout this process. If you have any questions or thoughts between our scheduled meetings, don't hesitate to reach out via ChatJustus or directly. We're here to support you.\n",
      "Marco: I appreciate that, Justicius. Looking forward to crafting a solid strategy together. Have a great day!\n",
      "Justicius: You too, Marco. We'll be in touch soon.\n",
      "[ChatGPT]: In your last meeting with your lawyer Justicius, the following key points were discussed:\n",
      "\n",
      "- **Proactive Strategy for Potential Challenges**: Justicius emphasized the importance of being proactive in addressing potential challenges in your divorce, such as asset division, spousal support, and child custody. He plans to anticipate these issues and formulate solutions in advance.\n",
      "- **Detailed Negotiation and Parenting Plans**: A clear inventory of shared assets and debts will be established for asset division, and detailed negotiation approaches will be considered. For child custody, a parenting plan that prioritizes your child's best interests will be crafted, taking into account various factors to ensure a fair and acceptable arrangement.\n",
      "- **Use of ChatJustus for Support**: You've found the ChatJustus tool helpful, and Justicius encourages its continued use. It provides 24/7 support for updates and questions, ensuring continuous assistance throughout your divorce proceedings.\n",
      "\n",
      "Do you have any questions or concerns about the points covered in the meeting?\n",
      "[Final Response]: In your last meeting with your lawyer Justicius, the following key points were discussed:\n",
      "\n",
      "- **Proactive Strategy for Potential Challenges**: Justicius emphasized the importance of being proactive in addressing potential challenges in your divorce, such as asset division, spousal support, and child custody. He plans to anticipate these issues and formulate solutions in advance.\n",
      "- **Detailed Negotiation and Parenting Plans**: A clear inventory of shared assets and debts will be established for asset division, and detailed negotiation approaches will be considered. For child custody, a parenting plan that prioritizes your child's best interests will be crafted, taking into account various factors to ensure a fair and acceptable arrangement.\n",
      "- **Use of ChatJustus for Support**: You've found the ChatJustus tool helpful, and Justicius encourages its continued use. It provides 24/7 support for updates and questions, ensuring continuous assistance throughout your divorce proceedings.\n",
      "\n",
      "Do you have any questions or concerns about the points covered in the meeting?\n",
      "[User]: Please generate a short title (<10 words) for the given meeting summary:\n",
      "\n",
      "In your last meeting with your lawyer Justicius, the following key points were discussed:\n",
      "\n",
      "- **Proactive Strategy for Potential Challenges**: Justicius emphasized the importance of being proactive in addressing potential challenges in your divorce, such as asset division, spousal support, and child custody. He plans to anticipate these issues and formulate solutions in advance.\n",
      "- **Detailed Negotiation and Parenting Plans**: A clear inventory of shared assets and debts will be established for asset division, and detailed negotiation approaches will be considered. For child custody, a parenting plan that prioritizes your child's best interests will be crafted, taking into account various factors to ensure a fair and acceptable arrangement.\n",
      "- **Use of ChatJustus for Support**: You've found the ChatJustus tool helpful, and Justicius encourages its continued use. It provides 24/7 support for updates and questions, ensuring continuous assistance throughout your divorce proceedings.\n",
      "\n",
      "Do you have any questions or concerns about the points covered in the meeting?\n",
      "[ChatGPT]: \"Divorce Strategy and Support Tools Meeting\"\n",
      "[Final Response]: \"Divorce Strategy and Support Tools Meeting\"\n"
     ]
    }
   ],
   "source": [
    "from gpt_wrapper.assistants import ChatGPT\n",
    "from gpt_wrapper.messages import SimpleHistory, msg\n",
    "\n",
    "# Step 1: Summarize\n",
    "summarizer = ChatGPT(messages=SimpleHistory(), model=\"gpt-4-1106-preview\")\n",
    "summary = await summarizer(f\"\"\"\n",
    "The following is a full trasncript of a legal meeting between the lawyer Justicius and his client Marco.\n",
    "Please summarize for the client Marco, the 3 most important points of the meeting to be reminded about.\n",
    "You MUST address Marco directly in your summary! Start the summary with \"In your last meeting...\" and end by 1 sentence asking if he has any questions about the meeting.\n",
    "Use markdown formatting and bullet points.\n",
    "\n",
    "[Trascript]:\n",
    "{formatted_dialog}\"\"\".strip(), temperature=0.5)\n",
    "\n",
    "# Step 2: Generate a title\n",
    "titlizer = ChatGPT(messages=SimpleHistory(), model=\"gpt-4-1106-preview\")\n",
    "title = await titlizer(f\"Please generate a short title (<10 words) for the given meeting summary:\\n\\n{summary}\", temperature=0.5)"
   ]
  },
  {
   "cell_type": "code",
   "execution_count": 17,
   "metadata": {},
   "outputs": [
    {
     "name": "stdout",
     "output_type": "stream",
     "text": [
      "\"Divorce Strategy and Support Tools Meeting\"\n",
      "In your last meeting with your lawyer Justicius, the following key points were discussed:\n",
      "\n",
      "- **Proactive Strategy for Potential Challenges**: Justicius emphasized the importance of being proactive in addressing potential challenges in your divorce, such as asset division, spousal support, and child custody. He plans to anticipate these issues and formulate solutions in advance.\n",
      "- **Detailed Negotiation and Parenting Plans**: A clear inventory of shared assets and debts will be established for asset division, and detailed negotiation approaches will be considered. For child custody, a parenting plan that prioritizes your child's best interests will be crafted, taking into account various factors to ensure a fair and acceptable arrangement.\n",
      "- **Use of ChatJustus for Support**: You've found the ChatJustus tool helpful, and Justicius encourages its continued use. It provides 24/7 support for updates and questions, ensuring continuous assistance throughout your divorce proceedings.\n",
      "\n",
      "Do you have any questions or concerns about the points covered in the meeting?\n"
     ]
    }
   ],
   "source": [
    "print(title)\n",
    "print(summary)"
   ]
  },
  {
   "cell_type": "code",
   "execution_count": 5,
   "metadata": {},
   "outputs": [],
   "source": [
    "def get_meeting_summary(case_id, meeting_timestamp):\n",
    "    meeting_by_case = {\n",
    "        'JUSTICIUS-MARCO_2023-11-13': [\n",
    "    Meeting(timestamp=to_timestamp(meeting_timestamp),title=\"Divorce Case Strategy and Fee Discussion with Justicius\",\n",
    "        summary= \"In your last meeting with Justicius, the following key points were covered: Fee Structure : 1. Justicius provided information on his hourly rate and the possibility of a flat fee arrangement to give you more predictability in legal costs. 2. Divorce Strategy : A strategy will be developed to ensure a fair division of assets and a smooth resolution, with Justicius keeping you informed at every step of the process. 3. Documentation and Next Steps**: You'll need to provide relevant documents such as your marriage certificate and financial statements, and a check-in meeting is suggested in two weeks to discuss updates.Do you have any questions about these points or anything else from the meeting?\")\n",
    "],\n",
    "        'JUSTICIUS-MARCO_2023-11-27': [\n",
    "    Meeting(timestamp=to_timestamp(meeting_timestamp),title=\"Divorce Strategy and Support Tools Meeting\",\n",
    "        summary = \"In your last meeting with your lawyer Justicius, the following key points were discussed: 1. Proactive Strategy for Potential Challenges: Justicius emphasized the importance of being proactive in addressing potential challenges in your divorce, such as asset division, spousal support, and child custody. He plans to anticipate these issues and formulate solutions in advance. 2. Detailed Negotiation and Parenting Plans: A clear inventory of shared assets and debts will be established for asset division, and detailed negotiation approaches will be considered. For child custody, a parenting plan that prioritizes your child's best interests will be crafted, taking into account various factors to ensure a fair and acceptable arrangement. 3. Use of ChatJustus for Support: You've found the ChatJustus tool helpful, and Justicius encourages its continued use. It provides 24/7 support for updates and questions, ensuring continuous assistance throughout your divorce proceedings.Do you have any questions or concerns about the points covered in the meeting?\")\n",
    "    \n",
    "]\n",
    "    }\n",
    "\n",
    "    \n",
    "    key = f\"{case_id}_{meeting_timestamp}\"\n",
    "\n",
    "    \n",
    "    return meeting_by_case.get(key, [])\n"
   ]
  },
  {
   "cell_type": "code",
   "execution_count": 8,
   "metadata": {},
   "outputs": [],
   "source": [
    "case_id = 'JUSTICIUS-MARCO'\n",
    "meeting_timestamps = ['2023-11-13', '2023-11-27']\n",
    "\n",
    "meeting_db = VectorDB(f\"Meetings_{case_id}\", Meeting)\n",
    "meeting_db.reset() # reset if exists\n",
    "for meeting_timestamp in meeting_timestamps:\n",
    "    meeting = get_meeting_summary(case_id, meeting_timestamp)\n",
    "    meeting_db.add(meeting) "
   ]
  },
  {
   "cell_type": "markdown",
   "metadata": {},
   "source": [
    "# Creating Legal DB"
   ]
  },
  {
   "cell_type": "code",
   "execution_count": 12,
   "metadata": {},
   "outputs": [
    {
     "name": "stdout",
     "output_type": "stream",
     "text": [
      "2477\n",
      "Creating collection BGB\n"
     ]
    }
   ],
   "source": [
    "with open('BJNR001950896_output.json', 'r') as f:\n",
    "    BGB = json.load(f)\n",
    "    BGB = [\n",
    "        LawArticle(\n",
    "            book=article['jurabk'],\n",
    "            article_number=article['enbez'],\n",
    "            title=article['titel'],\n",
    "            content=article['content']\n",
    "        )\n",
    "        for article in BGB\n",
    "        if article['jurabk'] == 'BGB'\n",
    "        and article.get('enbez')\n",
    "        and article.get('titel')\n",
    "        and article.get('content')\n",
    "    ]\n",
    "    print(len(BGB))\n",
    "\n",
    "bgb_db = VectorDB(\"BGB\", LawArticle)\n",
    "bgb_db.reset()\n",
    "\n",
    "batch_size = 200\n",
    "for i in range(0, len(BGB), batch_size):\n",
    "    bgb_db.add(BGB[i:i+batch_size])"
   ]
  },
  {
   "cell_type": "code",
   "execution_count": 13,
   "metadata": {},
   "outputs": [
    {
     "name": "stdout",
     "output_type": "stream",
     "text": [
      "Creating collection ZPO\n"
     ]
    }
   ],
   "source": [
    "with open('BJNR005330950_output.json', 'r') as f:\n",
    "    ZPO = json.load(f)\n",
    "    ZPO = [\n",
    "        LawArticle(\n",
    "            book=article['jurabk'],\n",
    "            article_number=article['enbez'],\n",
    "            title=article['titel'],\n",
    "            content=article['content']\n",
    "        )\n",
    "        for article in ZPO\n",
    "        if article['jurabk'] == 'ZPO'\n",
    "        and article.get('enbez')\n",
    "        and article.get('titel')\n",
    "        and article.get('content')\n",
    "    ]\n",
    "\n",
    "zpo_db = VectorDB(\"ZPO\", LawArticle)\n",
    "zpo_db.reset()\n",
    "zpo_db.add(ZPO)"
   ]
  },
  {
   "cell_type": "code",
   "execution_count": 14,
   "metadata": {},
   "outputs": [
    {
     "name": "stdout",
     "output_type": "stream",
     "text": [
      "Creating collection FamFG\n"
     ]
    }
   ],
   "source": [
    "with open('BJNR258700008_output.json', 'r') as f:\n",
    "    FamFG = json.load(f)\n",
    "    FamFG = [\n",
    "        LawArticle(\n",
    "            book=article['jurabk'],\n",
    "            article_number=article['enbez'],\n",
    "            title=article['titel'],\n",
    "            content=article['content']\n",
    "        )\n",
    "        for article in FamFG\n",
    "        if article['jurabk'] == 'FamFG'\n",
    "        and article.get('enbez')\n",
    "        and article.get('titel')\n",
    "        and article.get('content')\n",
    "    ]\n",
    "\n",
    "famfg_db = VectorDB(\"FamFG\", LawArticle)\n",
    "famfg_db.reset()\n",
    "famfg_db.add(FamFG)"
   ]
  },
  {
   "cell_type": "markdown",
   "metadata": {},
   "source": [
    "# AI Assistant"
   ]
  },
  {
   "cell_type": "code",
   "execution_count": 1,
   "metadata": {},
   "outputs": [],
   "source": [
    "from gpt_wrapper.tools import Tools, Toolkit, ToolList, function_tool"
   ]
  },
  {
   "cell_type": "code",
   "execution_count": null,
   "metadata": {},
   "outputs": [],
   "source": [
    "class CaseDBToolkit(Toolkit):\n",
    "    def __init__(self, case_id: str):\n",
    "        self.all_meetings = [...]\n",
    "        self.meeting_dbs = [VectorDB(f\"meeting_db:{meeting_id}\", Meeting) for meeting_id in self.all_meetings]\n",
    "    \n",
    "    @function_tool\n",
    "    def add_meeting(self, timestamp: int, transcript: str):\n",
    "        # use GPT endpoint to summarize the transcript and generate a short title\n",
    "        content = gpt(f\"Write a 1-paragraph summary for the following meeting transcript:\\n{transcript}\")\n",
    "        title = gpt(f\"Write a short title for the following meeting transcript:\\n{transcript}\")\n",
    "\n",
    "        # add to database\n",
    "        self.meeting_db.add(Meeting(\n",
    "            date=timestamp,\n",
    "            title=title,\n",
    "            summary=content,\n",
    "            full_content=transcript\n",
    "        ))\n",
    "    \n",
    "    @function_tool\n",
    "    def get_relevant_meeting_snippets(self, meeting_id: str, query: str):\n",
    "        return self.meeting_dbs[meeting_id].search(query)"
   ]
  }
 ],
 "metadata": {
  "kernelspec": {
   "display_name": "tc",
   "language": "python",
   "name": "python3"
  },
  "language_info": {
   "codemirror_mode": {
    "name": "ipython",
    "version": 3
   },
   "file_extension": ".py",
   "mimetype": "text/x-python",
   "name": "python",
   "nbconvert_exporter": "python",
   "pygments_lexer": "ipython3",
   "version": "3.12.0"
  }
 },
 "nbformat": 4,
 "nbformat_minor": 2
}
