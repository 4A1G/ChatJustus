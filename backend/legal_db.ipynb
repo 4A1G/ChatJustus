{
 "cells": [
  {
   "cell_type": "code",
   "execution_count": 1,
   "metadata": {},
   "outputs": [
    {
     "data": {
      "text/plain": [
       "True"
      ]
     },
     "execution_count": 1,
     "metadata": {},
     "output_type": "execute_result"
    }
   ],
   "source": [
    "# load environment variables from .env file\n",
    "from dotenv import load_dotenv\n",
    "load_dotenv(override=True)"
   ]
  },
  {
   "cell_type": "markdown",
   "metadata": {},
   "source": [
    "# Objects"
   ]
  },
  {
   "cell_type": "code",
   "execution_count": 2,
   "metadata": {},
   "outputs": [],
   "source": [
    "from backend.database.embedding import MockEmbedding, OpenAIEmbedding\n",
    "from backend.database.vector_db import VectorDB, EmbedData, Field, EmbedField\n",
    "from legal_db import get_dialogs, get_legal_text, get_meeting_summary, to_timestamp, Dialog, Meeting, LawArticle, CaseRecord\n",
    "import json"
   ]
  },
  {
   "cell_type": "markdown",
   "metadata": {},
   "source": [
    "## Dialog DB creation (for use case)"
   ]
  },
  {
   "cell_type": "code",
   "execution_count": 3,
   "metadata": {},
   "outputs": [],
   "source": [
    "case_id = 'JUSTICIUS-MARCO'\n",
    "meeting_timestamps = ['2023-11-13', '2023-11-27']\n",
    "\n",
    "for meeting_timestamp in meeting_timestamps:\n",
    "    dialogs_db = VectorDB(f\"Dialog_{case_id}_{meeting_timestamp}\", Dialog)\n",
    "    dialogs = get_dialogs(case_id, meeting_timestamp)\n",
    "    dialogs_db.reset() \n",
    "    dialogs_db.add(dialogs, list(i for i in range(len(dialogs))))\n"
   ]
  },
  {
   "cell_type": "markdown",
   "metadata": {},
   "source": [
    "# Querying after DB creation"
   ]
  },
  {
   "cell_type": "code",
   "execution_count": null,
   "metadata": {},
   "outputs": [],
   "source": [
    "def format_query_result(query_result):\n",
    "    return \"\\n...\\n\".join(f\"{d.speaker}: {d.content}\" for d in query_result if d.speaker == \"Justicius\")\n",
    "    "
   ]
  },
  {
   "cell_type": "markdown",
   "metadata": {},
   "source": [
    "## Meeting Summary Generation"
   ]
  },
  {
   "cell_type": "code",
   "execution_count": 4,
   "metadata": {},
   "outputs": [],
   "source": [
    "case_id = 'JUSTICIUS-MARCO'\n",
    "meeting_timestamp = '2023-11-27'\n",
    "\n",
    "def format_dialogs(dialogs: list[Dialog]):\n",
    "    return \"\\n\".join([f\"{d.speaker}: {d.content}\" for d in dialogs])\n",
    "\n",
    "formatted_dialog = format_dialogs(get_dialogs(case_id, meeting_timestamp))"
   ]
  },
  {
   "cell_type": "code",
   "execution_count": 16,
   "metadata": {},
   "outputs": [
    {
     "name": "stdout",
     "output_type": "stream",
     "text": [
      "[User]: The following is a full trasncript of a legal meeting between the lawyer Justicius and his client Marco.\n",
      "Please summarize for the client Marco, the 3 most important points of the meeting to be reminded about.\n",
      "You MUST address Marco directly in your summary! Start the summary with \"In your last meeting...\" and end by 1 sentence asking if he has any questions about the meeting.\n",
      "Use markdown formatting and bullet points.\n",
      "\n",
      "[Trascript]:\n",
      "Justicius: Good day, Marco! I trust everything has been going smoothly since our last discussion.\n",
      "Marco: Hello, Justicius! Yes, everything's been fine. I've had some time to review the documents we discussed, and I'm ready for our next steps.\n",
      "Justicius: Excellent. I'm glad to hear that. Let's delve into the details. I've thoroughly reviewed the documents you provided, including your marriage certificate and financial statements. It's essential to have a comprehensive understanding of your situation.\n",
      "Marco: I appreciate your thoroughness, Justicius. Is there anything specific you need from me at this point?\n",
      "Justicius: Not at the moment. You've done a great job compiling the necessary information. In our current discussion, let's focus on the key elements of our divorce strategy. One significant aspect is addressing potential challenges that may arise, such as disagreements on asset division, spousal support, or child custody. By anticipating these challenges now, we can formulate proactive solutions.\n",
      "Marco: That sounds important, Justicius. What strategies do you propose for handling potential disagreements on asset division?\n",
      "Justicius: For asset division, it's crucial to establish a clear inventory of shared assets and debts. During our strategy discussions, we'll delve into detailed negotiation approaches, considering your priorities and what's fair and equitable. If needed, we can explore mediation or alternative dispute resolution methods to find common ground.\n",
      "Marco: I see. And what about potential challenges regarding spousal support?\n",
      "Justicius: Spousal support considerations vary widely. We'll examine your financial situation and your spouse's to determine a fair arrangement. This involves calculating factors like income, earning capacity, and the duration of the marriage. By addressing these details upfront, we aim to minimize disputes and streamline the process.\n",
      "Marco: That makes sense. Child custody is also a concern. How can we approach that?\n",
      "Justicius: Child custody matters are sensitive. Our strategy involves crafting a parenting plan that prioritizes the child's best interests. We'll discuss factors like the child's relationship with each parent, living arrangements, and visitation schedules. By being proactive and considering the child's well-being, we aim to create a plan that both parties find acceptable.\n",
      "Marco: I appreciate the detailed insight, Justicius. It's reassuring to know we're being proactive about potential challenges.\n",
      "Marco: Also, I've found ChatJustus to be quite helpful. It's available 24/7 for quick updates or questions, providing additional convenience.\n",
      "Justicius: I'm glad to hear that, Marco. ChatJustus is indeed a valuable resource. Strategy is key in navigating a divorce, and having ChatJustus at your disposal ensures continuous support. Our goal is to approach each aspect thoughtfully, addressing potential issues before they become major obstacles. If you have any specific concerns or preferences in these areas, feel free to share them, and we'll incorporate them into our strategy.\n",
      "Marco: Thank you, Justicius. I feel more informed and confident about the road ahead. Let's continue developing our strategy.\n",
      "Justicius: Certainly, Marco. Your input is valuable as we tailor our approach to your unique situation. Remember, open communication is crucial throughout this process. If you have any questions or thoughts between our scheduled meetings, don't hesitate to reach out via ChatJustus or directly. We're here to support you.\n",
      "Marco: I appreciate that, Justicius. Looking forward to crafting a solid strategy together. Have a great day!\n",
      "Justicius: You too, Marco. We'll be in touch soon.\n",
      "[ChatGPT]: In your last meeting with your lawyer Justicius, the following key points were discussed:\n",
      "\n",
      "- **Proactive Strategy for Potential Challenges**: Justicius emphasized the importance of being proactive in addressing potential challenges in your divorce, such as asset division, spousal support, and child custody. He plans to anticipate these issues and formulate solutions in advance.\n",
      "- **Detailed Negotiation and Parenting Plans**: A clear inventory of shared assets and debts will be established for asset division, and detailed negotiation approaches will be considered. For child custody, a parenting plan that prioritizes your child's best interests will be crafted, taking into account various factors to ensure a fair and acceptable arrangement.\n",
      "- **Use of ChatJustus for Support**: You've found the ChatJustus tool helpful, and Justicius encourages its continued use. It provides 24/7 support for updates and questions, ensuring continuous assistance throughout your divorce proceedings.\n",
      "\n",
      "Do you have any questions or concerns about the points covered in the meeting?\n",
      "[Final Response]: In your last meeting with your lawyer Justicius, the following key points were discussed:\n",
      "\n",
      "- **Proactive Strategy for Potential Challenges**: Justicius emphasized the importance of being proactive in addressing potential challenges in your divorce, such as asset division, spousal support, and child custody. He plans to anticipate these issues and formulate solutions in advance.\n",
      "- **Detailed Negotiation and Parenting Plans**: A clear inventory of shared assets and debts will be established for asset division, and detailed negotiation approaches will be considered. For child custody, a parenting plan that prioritizes your child's best interests will be crafted, taking into account various factors to ensure a fair and acceptable arrangement.\n",
      "- **Use of ChatJustus for Support**: You've found the ChatJustus tool helpful, and Justicius encourages its continued use. It provides 24/7 support for updates and questions, ensuring continuous assistance throughout your divorce proceedings.\n",
      "\n",
      "Do you have any questions or concerns about the points covered in the meeting?\n",
      "[User]: Please generate a short title (<10 words) for the given meeting summary:\n",
      "\n",
      "In your last meeting with your lawyer Justicius, the following key points were discussed:\n",
      "\n",
      "- **Proactive Strategy for Potential Challenges**: Justicius emphasized the importance of being proactive in addressing potential challenges in your divorce, such as asset division, spousal support, and child custody. He plans to anticipate these issues and formulate solutions in advance.\n",
      "- **Detailed Negotiation and Parenting Plans**: A clear inventory of shared assets and debts will be established for asset division, and detailed negotiation approaches will be considered. For child custody, a parenting plan that prioritizes your child's best interests will be crafted, taking into account various factors to ensure a fair and acceptable arrangement.\n",
      "- **Use of ChatJustus for Support**: You've found the ChatJustus tool helpful, and Justicius encourages its continued use. It provides 24/7 support for updates and questions, ensuring continuous assistance throughout your divorce proceedings.\n",
      "\n",
      "Do you have any questions or concerns about the points covered in the meeting?\n",
      "[ChatGPT]: \"Divorce Strategy and Support Tools Meeting\"\n",
      "[Final Response]: \"Divorce Strategy and Support Tools Meeting\"\n"
     ]
    }
   ],
   "source": [
    "from gpt_wrapper.assistants import ChatGPT\n",
    "from gpt_wrapper.messages import SimpleHistory, msg\n",
    "\n",
    "# Step 1: Summarize\n",
    "summarizer = ChatGPT(messages=SimpleHistory(), model=\"gpt-4-1106-preview\")\n",
    "summary = await summarizer(f\"\"\"\n",
    "The following is a full trasncript of a legal meeting between the lawyer Justicius and his client Marco.\n",
    "Please summarize for the client Marco, the 3 most important points of the meeting to be reminded about.\n",
    "You MUST address Marco directly in your summary! Start the summary with \"In your last meeting...\" and end by 1 sentence asking if he has any questions about the meeting.\n",
    "Use markdown formatting and bullet points.\n",
    "\n",
    "[Trascript]:\n",
    "{formatted_dialog}\"\"\".strip(), temperature=0.5)\n",
    "\n",
    "# Step 2: Generate a title\n",
    "titlizer = ChatGPT(messages=SimpleHistory(), model=\"gpt-4-1106-preview\")\n",
    "title = await titlizer(f\"Please generate a short title (<10 words) for the given meeting summary:\\n\\n{summary}\", temperature=0.5)"
   ]
  },
  {
   "cell_type": "markdown",
   "metadata": {},
   "source": [
    "# Meeting DB creation"
   ]
  },
  {
   "cell_type": "code",
   "execution_count": 5,
   "metadata": {},
   "outputs": [],
   "source": [
    "case_id = 'JUSTICIUS-MARCO'\n",
    "meeting_timestamps = ['2023-11-13', '2023-11-27']\n",
    "\n",
    "meeting_db = VectorDB(f\"Meetings_{case_id}\", Meeting)\n",
    "meeting_db.reset() # reset if exists\n",
    "for meeting_timestamp in meeting_timestamps:\n",
    "    meeting = get_meeting_summary(case_id, meeting_timestamp)\n",
    "    meeting_db.add(meeting) "
   ]
  },
  {
   "cell_type": "markdown",
   "metadata": {},
   "source": [
    "# Legal DB creation"
   ]
  },
  {
   "cell_type": "code",
   "execution_count": 8,
   "metadata": {},
   "outputs": [
    {
     "name": "stdout",
     "output_type": "stream",
     "text": [
      "BGB: 2477 articles\n"
     ]
    }
   ],
   "source": [
    "books = ['BGB', 'ZPO', 'FamFG']\n",
    "for book in books:\n",
    "    law_articles = get_legal_text(book)\n",
    "    law_db = VectorDB(f\"{book}\", LawArticle)\n",
    "    law_db.reset() # reset if exists\n",
    "    if book == 'BGB':\n",
    "        batch_size = 200\n",
    "        for i in range(0, len(law_articles), batch_size):\n",
    "            law_db.add(law_articles[i:i+batch_size])\n",
    "    else:\n",
    "        law_db.add(law_articles)    "
   ]
  },
  {
   "cell_type": "markdown",
   "metadata": {},
   "source": [
    "# AI Assistant"
   ]
  },
  {
   "cell_type": "code",
   "execution_count": 1,
   "metadata": {},
   "outputs": [],
   "source": [
    "from gpt_wrapper.tools import Tools, Toolkit, ToolList, function_tool"
   ]
  },
  {
   "cell_type": "code",
   "execution_count": null,
   "metadata": {},
   "outputs": [],
   "source": [
    "class CaseDBToolkit(Toolkit):\n",
    "    def __init__(self, case_id: str):\n",
    "        self.all_meetings = [...]\n",
    "        self.meeting_dbs = [VectorDB(f\"meeting_db:{meeting_id}\", Meeting) for meeting_id in self.all_meetings]\n",
    "    \n",
    "    @function_tool\n",
    "    def add_meeting(self, timestamp: int, transcript: str):\n",
    "        # use GPT endpoint to summarize the transcript and generate a short title\n",
    "        content = gpt(f\"Write a 1-paragraph summary for the following meeting transcript:\\n{transcript}\")\n",
    "        title = gpt(f\"Write a short title for the following meeting transcript:\\n{transcript}\")\n",
    "\n",
    "        # add to database\n",
    "        self.meeting_db.add(Meeting(\n",
    "            date=timestamp,\n",
    "            title=title,\n",
    "            summary=content,\n",
    "            full_content=transcript\n",
    "        ))\n",
    "    \n",
    "    @function_tool\n",
    "    def get_relevant_meeting_snippets(self, meeting_id: str, query: str):\n",
    "        return self.meeting_dbs[meeting_id].search(query)"
   ]
  },
  {
   "cell_type": "markdown",
   "metadata": {},
   "source": [
    "# Dialog generation "
   ]
  },
  {
   "cell_type": "code",
   "execution_count": null,
   "metadata": {},
   "outputs": [],
   "source": [
    "from gpt_wrapper.assistants import ChatGPT\n",
    "from gpt_wrapper.messages import SimpleHistory, msg\n",
    "\n",
    "# Step 1: Get the data\n",
    "name, meeting_timestamp, case, lawyer = summary_submitted()\n",
    "\n",
    "# Step 2: Summarize\n",
    "summarizer = ChatGPT(messages=SimpleHistory(), model=\"gpt-4-1106-preview\")\n",
    "\n",
    "dialog = await summarizer(f\"\"\"\n",
    "Generate a dialog (around 20 conversations) with the ID of {meeting_timestamp} between the {lawyer} and the {name} based on the information from {case}. \n",
    "It should be the first interaction of the lawyer and client. Usually, talk about general things about the case, the lawyer's strategy, and the fee. \n",
    "The conversation always starts with the lawyer speaking first.\n",
    "\"\"\")\n",
    "\n",
    "# Step 3: Generate an object for the database\n",
    "case_id = f\"{lawyer}-{name}\" \n",
    "meeting_timestamp = meeting_timestamp\n",
    "dialogs_db.reset()\n",
    "dialogs_db.add(dialog)  \n",
    "\n"
   ]
  }
 ],
 "metadata": {
  "kernelspec": {
   "display_name": "tc",
   "language": "python",
   "name": "python3"
  },
  "language_info": {
   "codemirror_mode": {
    "name": "ipython",
    "version": 3
   },
   "file_extension": ".py",
   "mimetype": "text/x-python",
   "name": "python",
   "nbconvert_exporter": "python",
   "pygments_lexer": "ipython3",
   "version": "3.12.0"
  }
 },
 "nbformat": 4,
 "nbformat_minor": 2
}
