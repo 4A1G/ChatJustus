{
 "cells": [
  {
   "cell_type": "code",
   "execution_count": 2,
   "metadata": {},
   "outputs": [
    {
     "data": {
      "text/plain": [
       "False"
      ]
     },
     "execution_count": 2,
     "metadata": {},
     "output_type": "execute_result"
    }
   ],
   "source": [
    "# load environment variables from .env file\n",
    "from dotenv import load_dotenv\n",
    "load_dotenv(override=True)"
   ]
  },
  {
   "cell_type": "markdown",
   "metadata": {},
   "source": [
    "# Database"
   ]
  },
  {
   "cell_type": "code",
   "execution_count": 3,
   "metadata": {},
   "outputs": [],
   "source": [
    "from backend.database.embedding import MockEmbedding, OpenAIEmbedding\n",
    "from backend.database.vector_db import VectorDB, EmbedData, Field, EmbedField"
   ]
  },
  {
   "cell_type": "code",
   "execution_count": 11,
   "metadata": {},
   "outputs": [],
   "source": [
    "class Dialog(EmbedData):\n",
    "    speaker: str\n",
    "    content: str = EmbedField()\n",
    "\n",
    "class Meeting(EmbedData):\n",
    "    timestamp: int # unix timestamp, serves as id\n",
    "    \n",
    "    # AI-generated\n",
    "    title: str # shown on the sidebar\n",
    "    summary: str # shown at the beginning of after-meeting \n",
    "    \n",
    "    \n",
    "class LawArticle(EmbedData):\n",
    "    book: str\n",
    "    article_number: str\n",
    "    title: str\n",
    "    content: str = EmbedField()\n",
    "    \n",
    "    \n",
    "class CaseRecord(EmbedData):\n",
    "    timestamp: int # unix timestamp\n",
    "    title: str\n",
    "    content: str = EmbedField()\n",
    "    \n"
   ]
  },
  {
   "cell_type": "markdown",
   "metadata": {},
   "source": [
    "## Creating a mocked database"
   ]
  },
  {
   "cell_type": "code",
   "execution_count": 6,
   "metadata": {},
   "outputs": [],
   "source": [
    "case_id = 'JUSTICIUS-MARCO'\n",
    "meeting_timestamp = 123\n",
    "\n",
    "# dialogs\n",
    "dialogs = [\n",
    "    Dialog(speaker=\"Justicius\", content=\"Hello, I'm Justicius, nice to meet you!\"),\n",
    "    Dialog(speaker=\"Marco\", content=\"Hey, I'm Marco, nice to meet you!\"),\n",
    "    Dialog(speaker=\"Justicius\", content=\"What can I help you with?\"),\n",
    "    Dialog(speaker=\"Marco\", content=\"I'm looking for a lawyer.\"),\n",
    "]\n",
    "\n",
    "dialog_db = VectorDB(f\"Dialog:{case_id}_{meeting_timestamp}\", Dialog)\n",
    "dialog_db.reset() # reset if exists\n",
    "dialog_db.add(dialogs)"
   ]
  },
  {
   "cell_type": "code",
   "execution_count": 8,
   "metadata": {},
   "outputs": [
    {
     "data": {
      "text/plain": [
       "[(0.8165385768610883,\n",
       "  Dialog(speaker='Marco', content=\"Hey, I'm Marco, nice to meet you!\")),\n",
       " (0.8074972214012732,\n",
       "  Dialog(speaker='Justicius', content=\"Hello, I'm Justicius, nice to meet you!\")),\n",
       " (0.7728671743877149,\n",
       "  Dialog(speaker='Justicius', content='What can I help you with?'))]"
      ]
     },
     "execution_count": 8,
     "metadata": {},
     "output_type": "execute_result"
    }
   ],
   "source": [
    "# test search\n",
    "\n",
    "# load it again, just for testing\n",
    "results = []\n",
    "for meeting_timestamp in [123, 456]:\n",
    "    dialog_db = VectorDB(f\"Dialog:{case_id}_{meeting_timestamp}\", Dialog)\n",
    "    results(dialog_db.query(top=3, content=\"greeting\"))"
   ]
  },
  {
   "cell_type": "code",
   "execution_count": 17,
   "metadata": {},
   "outputs": [],
   "source": [
    "import json\n",
    "with open('BJNR001950896_output.json', 'r') as f:\n",
    "    BGB = json.load(f)\n",
    "    BGB = BGB[:20]\n",
    "    BGB = [\n",
    "        LawArticle(\n",
    "            book=article['jurabk'],\n",
    "            article_number=article['enbez'],\n",
    "            title=article['titel'],\n",
    "            content=article['content']\n",
    "        )\n",
    "        for article in BGB\n",
    "        if article['jurabk'] == 'BGB'\n",
    "        and article.get('enbez')\n",
    "        and article.get('titel')\n",
    "        and article.get('content')\n",
    "    ]\n",
    "\n",
    "bgb_db = VectorDB(\"BGB\", LawArticle)\n",
    "bgb_db.reset()\n",
    "bgb_db.add(BGB)"
   ]
  },
  {
   "cell_type": "code",
   "execution_count": 18,
   "metadata": {},
   "outputs": [
    {
     "name": "stdout",
     "output_type": "stream",
     "text": [
      "book='BGB' article_number='§ 2' title='Eintritt der Volljährigkeit' content='Die Volljährigkeit tritt mit der Vollendung des 18. Lebensjahres ein.'\n",
      "book='BGB' article_number='§ 8' title='Wohnsitz nicht voll Geschäftsfähiger' content='Wer geschäftsunfähig oder in der Geschäftsfähigkeit beschränkt ist, kann ohne den Willen seines gesetzlichen Vertreters einen Wohnsitz weder begründen noch aufheben.'\n",
      "book='BGB' article_number='§ 13' title='Verbraucher' content='Verbraucher ist jede natürliche Person, die ein Rechtsgeschäft zu Zwecken abschließt, die überwiegend weder ihrer gewerblichen noch ihrer selbständigen beruflichen Tätigkeit zugerechnet werden können.'\n",
      "book='BGB' article_number='§ 11' title='Wohnsitz des Kindes' content='Ein minderjähriges Kind teilt den Wohnsitz der Eltern; es teilt nicht den Wohnsitz eines Elternteils, dem das Recht fehlt, für die Person des Kindes zu sorgen. Steht keinem Elternteil das Recht zu, für die Person des Kindes zu sorgen, so teilt das Kind den Wohnsitz desjenigen, dem dieses Recht zusteht. Das Kind behält den Wohnsitz, bis es ihn rechtsgültig aufhebt.'\n",
      "book='BGB' article_number='§ 1' title='Beginn der Rechtsfähigkeit' content='Die Rechtsfähigkeit des Menschen beginnt mit der Vollendung der Geburt.'\n",
      "book='BGB' article_number='§ 12' title='Namensrecht' content='Wird das Recht zum Gebrauch eines Namens dem Berechtigten von einem anderen bestritten oder wird das Interesse des Berechtigten dadurch verletzt, dass ein anderer unbefugt den gleichen Namen gebraucht, so kann der Berechtigte von dem anderen Beseitigung der Beeinträchtigung verlangen. Sind weitere Beeinträchtigungen zu besorgen, so kann er auf Unterlassung klagen.'\n",
      "book='BGB' article_number='§ 7' title='Wohnsitz; Begründung und Aufhebung' content='(1) Wer sich an einem Orte ständig niederlässt, begründet an diesem Ort seinen Wohnsitz.'\n",
      "book='BGB' article_number='§ 9' title='Wohnsitz eines Soldaten' content='(1) Ein Soldat hat seinen Wohnsitz am Standort. Als Wohnsitz eines Soldaten, der im Inland keinen Standort hat, gilt der letzte inländische Standort.'\n"
     ]
    }
   ],
   "source": [
    "for article in bgb_db:\n",
    "    print(article)"
   ]
  },
  {
   "cell_type": "code",
   "execution_count": 19,
   "metadata": {},
   "outputs": [
    {
     "data": {
      "text/plain": [
       "[(0.779483108544475,\n",
       "  LawArticle(book='BGB', article_number='§ 2', title='Eintritt der Volljährigkeit', content='Die Volljährigkeit tritt mit der Vollendung des 18. Lebensjahres ein.')),\n",
       " (0.7533051767858291,\n",
       "  LawArticle(book='BGB', article_number='§ 13', title='Verbraucher', content='Verbraucher ist jede natürliche Person, die ein Rechtsgeschäft zu Zwecken abschließt, die überwiegend weder ihrer gewerblichen noch ihrer selbständigen beruflichen Tätigkeit zugerechnet werden können.')),\n",
       " (0.7516114171899585,\n",
       "  LawArticle(book='BGB', article_number='§ 11', title='Wohnsitz des Kindes', content='Ein minderjähriges Kind teilt den Wohnsitz der Eltern; es teilt nicht den Wohnsitz eines Elternteils, dem das Recht fehlt, für die Person des Kindes zu sorgen. Steht keinem Elternteil das Recht zu, für die Person des Kindes zu sorgen, so teilt das Kind den Wohnsitz desjenigen, dem dieses Recht zusteht. Das Kind behält den Wohnsitz, bis es ihn rechtsgültig aufhebt.'))]"
      ]
     },
     "execution_count": 19,
     "metadata": {},
     "output_type": "execute_result"
    }
   ],
   "source": [
    "bgb_db.query(top=3, content=\"adult\")"
   ]
  },
  {
   "cell_type": "markdown",
   "metadata": {},
   "source": [
    "# AI Assistant"
   ]
  },
  {
   "cell_type": "code",
   "execution_count": 1,
   "metadata": {},
   "outputs": [],
   "source": [
    "from gpt_wrapper.tools import Tools, Toolkit, ToolList, function_tool"
   ]
  },
  {
   "cell_type": "code",
   "execution_count": null,
   "metadata": {},
   "outputs": [],
   "source": [
    "class CaseDBToolkit(Toolkit):\n",
    "    def __init__(self, case_id: str):\n",
    "        self.all_meetings = [...]\n",
    "        self.meeting_dbs = [VectorDB(f\"meeting_db:{meeting_id}\", Meeting) for meeting_id in self.all_meetings]\n",
    "    \n",
    "    @function_tool\n",
    "    def add_meeting(self, timestamp: int, transcript: str):\n",
    "        # use GPT endpoint to summarize the transcript and generate a short title\n",
    "        content = gpt(f\"Write a 1-paragraph summary for the following meeting transcript:\\n{transcript}\")\n",
    "        title = gpt(f\"Write a short title for the following meeting transcript:\\n{transcript}\")\n",
    "\n",
    "        # add to database\n",
    "        self.meeting_db.add(Meeting(\n",
    "            date=timestamp,\n",
    "            title=title,\n",
    "            summary=content,\n",
    "            full_content=transcript\n",
    "        ))\n",
    "    \n",
    "    @function_tool\n",
    "    def get_relevant_meeting_snippets(self, meeting_id: str, query: str):\n",
    "        return self.meeting_dbs[meeting_id].search(query)"
   ]
  }
 ],
 "metadata": {
  "kernelspec": {
   "display_name": "tc",
   "language": "python",
   "name": "python3"
  },
  "language_info": {
   "codemirror_mode": {
    "name": "ipython",
    "version": 3
   },
   "file_extension": ".py",
   "mimetype": "text/x-python",
   "name": "python",
   "nbconvert_exporter": "python",
   "pygments_lexer": "ipython3",
   "version": "3.12.0"
  }
 },
 "nbformat": 4,
 "nbformat_minor": 2
}
