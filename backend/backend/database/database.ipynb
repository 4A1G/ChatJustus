{
 "cells": [
  {
   "cell_type": "code",
   "execution_count": 5,
   "metadata": {},
   "outputs": [
    {
     "ename": "FileNotFoundError",
     "evalue": "[Errno 2] No such file or directory: 'backend/backend/database/BJNR001950896.xml'",
     "output_type": "error",
     "traceback": [
      "\u001b[0;31m---------------------------------------------------------------------------\u001b[0m",
      "\u001b[0;31mFileNotFoundError\u001b[0m                         Traceback (most recent call last)",
      "Cell \u001b[0;32mIn[5], line 1\u001b[0m\n\u001b[0;32m----> 1\u001b[0m \u001b[38;5;28;01mfrom\u001b[39;00m \u001b[38;5;21;01mbackend\u001b[39;00m\u001b[38;5;21;01m.\u001b[39;00m\u001b[38;5;21;01mdatabase\u001b[39;00m\u001b[38;5;21;01m.\u001b[39;00m\u001b[38;5;21;01membedding\u001b[39;00m \u001b[38;5;28;01mimport\u001b[39;00m MockEmbedding, OpenAIEmbedding\n\u001b[1;32m      2\u001b[0m \u001b[38;5;28;01mfrom\u001b[39;00m \u001b[38;5;21;01mbackend\u001b[39;00m\u001b[38;5;21;01m.\u001b[39;00m\u001b[38;5;21;01mdatabase\u001b[39;00m\u001b[38;5;21;01m.\u001b[39;00m\u001b[38;5;21;01mvector_db\u001b[39;00m \u001b[38;5;28;01mimport\u001b[39;00m VectorDB, EmbedData, Field, EmbedField\n\u001b[1;32m      4\u001b[0m EmbedData\u001b[38;5;241m.\u001b[39membedder_registry\n",
      "File \u001b[0;32m~/4A1G - TC/ChatJustus/backend/backend/database/__init__.py:4\u001b[0m\n\u001b[1;32m      1\u001b[0m \u001b[38;5;28;01mimport\u001b[39;00m \u001b[38;5;21;01mxml\u001b[39;00m\u001b[38;5;21;01m.\u001b[39;00m\u001b[38;5;21;01metree\u001b[39;00m\u001b[38;5;21;01m.\u001b[39;00m\u001b[38;5;21;01mElementTree\u001b[39;00m \u001b[38;5;28;01mas\u001b[39;00m \u001b[38;5;21;01mET\u001b[39;00m\n\u001b[1;32m      3\u001b[0m \u001b[38;5;66;03m# Load the XML file\u001b[39;00m\n\u001b[0;32m----> 4\u001b[0m tree \u001b[38;5;241m=\u001b[39m \u001b[43mET\u001b[49m\u001b[38;5;241;43m.\u001b[39;49m\u001b[43mparse\u001b[49m\u001b[43m(\u001b[49m\u001b[38;5;124;43m\"\u001b[39;49m\u001b[38;5;124;43mbackend/backend/database/BJNR001950896.xml\u001b[39;49m\u001b[38;5;124;43m\"\u001b[39;49m\u001b[43m)\u001b[49m\n\u001b[1;32m      5\u001b[0m \u001b[38;5;66;03m#tree = ET.parse(\"backend/backend/database/BJNR005330950.xml\")\u001b[39;00m\n\u001b[1;32m      6\u001b[0m root \u001b[38;5;241m=\u001b[39m tree\u001b[38;5;241m.\u001b[39mgetroot()\n",
      "File \u001b[0;32m~/opt/anaconda3/envs/tc/lib/python3.12/xml/etree/ElementTree.py:1203\u001b[0m, in \u001b[0;36mparse\u001b[0;34m(source, parser)\u001b[0m\n\u001b[1;32m   1194\u001b[0m \u001b[38;5;250m\u001b[39m\u001b[38;5;124;03m\"\"\"Parse XML document into element tree.\u001b[39;00m\n\u001b[1;32m   1195\u001b[0m \n\u001b[1;32m   1196\u001b[0m \u001b[38;5;124;03m*source* is a filename or file object containing XML data,\u001b[39;00m\n\u001b[0;32m   (...)\u001b[0m\n\u001b[1;32m   1200\u001b[0m \n\u001b[1;32m   1201\u001b[0m \u001b[38;5;124;03m\"\"\"\u001b[39;00m\n\u001b[1;32m   1202\u001b[0m tree \u001b[38;5;241m=\u001b[39m ElementTree()\n\u001b[0;32m-> 1203\u001b[0m \u001b[43mtree\u001b[49m\u001b[38;5;241;43m.\u001b[39;49m\u001b[43mparse\u001b[49m\u001b[43m(\u001b[49m\u001b[43msource\u001b[49m\u001b[43m,\u001b[49m\u001b[43m \u001b[49m\u001b[43mparser\u001b[49m\u001b[43m)\u001b[49m\n\u001b[1;32m   1204\u001b[0m \u001b[38;5;28;01mreturn\u001b[39;00m tree\n",
      "File \u001b[0;32m~/opt/anaconda3/envs/tc/lib/python3.12/xml/etree/ElementTree.py:557\u001b[0m, in \u001b[0;36mElementTree.parse\u001b[0;34m(self, source, parser)\u001b[0m\n\u001b[1;32m    555\u001b[0m close_source \u001b[38;5;241m=\u001b[39m \u001b[38;5;28;01mFalse\u001b[39;00m\n\u001b[1;32m    556\u001b[0m \u001b[38;5;28;01mif\u001b[39;00m \u001b[38;5;129;01mnot\u001b[39;00m \u001b[38;5;28mhasattr\u001b[39m(source, \u001b[38;5;124m\"\u001b[39m\u001b[38;5;124mread\u001b[39m\u001b[38;5;124m\"\u001b[39m):\n\u001b[0;32m--> 557\u001b[0m     source \u001b[38;5;241m=\u001b[39m \u001b[38;5;28;43mopen\u001b[39;49m\u001b[43m(\u001b[49m\u001b[43msource\u001b[49m\u001b[43m,\u001b[49m\u001b[43m \u001b[49m\u001b[38;5;124;43m\"\u001b[39;49m\u001b[38;5;124;43mrb\u001b[39;49m\u001b[38;5;124;43m\"\u001b[39;49m\u001b[43m)\u001b[49m\n\u001b[1;32m    558\u001b[0m     close_source \u001b[38;5;241m=\u001b[39m \u001b[38;5;28;01mTrue\u001b[39;00m\n\u001b[1;32m    559\u001b[0m \u001b[38;5;28;01mtry\u001b[39;00m:\n",
      "\u001b[0;31mFileNotFoundError\u001b[0m: [Errno 2] No such file or directory: 'backend/backend/database/BJNR001950896.xml'"
     ]
    }
   ],
   "source": [
    "from backend.database.embedding import MockEmbedding, OpenAIEmbedding\n",
    "from backend.database.vector_db import VectorDB, EmbedData, Field, EmbedField\n",
    "\n",
    "EmbedData.embedder_registry"
   ]
  },
  {
   "cell_type": "code",
   "execution_count": null,
   "metadata": {},
   "outputs": [],
   "source": [
    "class LawyerInfo(EmbedData):\n",
    "    lawyername: str\n",
    "    specialization: str \n",
    "    introduction: str\n",
    "    practice_areas: EmbedField"
   ]
  },
  {
   "cell_type": "code",
   "execution_count": null,
   "metadata": {},
   "outputs": [],
   "source": [
    "LawyerInfoFiles = [\n",
    "    {\n",
    "        \"name\": \"Johnathan Sterling\",\n",
    "        \"specialization\": \"Mergers & Acquisitions (M&A)\",\n",
    "        \"introduction\": \"With over 20 years of experience in corporate law, Johnathan Sterling is the driving force behind the firm's M&A practice. He has successfully facilitated numerous high-profile mergers and acquisitions, earning a reputation for his strategic insight and negotiation skills.\",\n",
    "        \"practice_areas\": [\n",
    "            \"Corporate mergers and acquisitions\",\n",
    "            \"Due diligence\",\n",
    "            \"Negotiation and structuring of deals\",\n",
    "            \"Regulatory compliance\"\n",
    "        ]\n",
    "    },\n",
    "    {\n",
    "        \"name\": \"Sophia Turner\",\n",
    "        \"specialization\": \"Divorce Law\",\n",
    "        \"introduction\": \"A compassionate and skilled family law attorney, Sophia Turner leads the divorce practice at Sterling Legal Associates. With a focus on ensuring the best interests of her clients, Sophia has guided numerous individuals through the complexities of divorce, custody, and spousal support cases.\",\n",
    "        \"practice_areas\": [\n",
    "            \"Divorce and legal separation\",\n",
    "            \"Child custody and support\",\n",
    "            \"Spousal support (alimony)\",\n",
    "            \"Property division\"\n",
    "        ]\n",
    "    },\n",
    "    {\n",
    "        \"name\": \"David Chambers\",\n",
    "        \"specialization\": \"Civil Law\",\n",
    "        \"bio\": \"As the head of the civil law division, David Chambers brings a wealth of experience in handling a diverse range of civil cases. His expertise spans contract disputes, personal injury claims, and other civil matters. David is known for his meticulous approach and dedication to achieving favorable outcomes for his clients.\",\n",
    "        \"practice_areas\": [\n",
    "            \"Contract disputes\",\n",
    "            \"Personal injury litigation\",\n",
    "            \"Real estate disputes\",\n",
    "            \"Employment law matters\"\n",
    "        ]\n",
    "    }\n",
    "]"
   ]
  },
  {
   "cell_type": "code",
   "execution_count": null,
   "metadata": {},
   "outputs": [],
   "source": [
    "db = VectorDB(\"lawyerinfo\", LawyerInfo)\n",
    "db.add(LawyerInfoFiles)"
   ]
  },
  {
   "cell_type": "code",
   "execution_count": null,
   "metadata": {},
   "outputs": [],
   "source": []
  },
  {
   "cell_type": "code",
   "execution_count": null,
   "metadata": {},
   "outputs": [],
   "source": [
    "class LegalDB(EmbedData):\n",
    "    jurabk: str\n",
    "    enbez: str \n",
    "    titel: str\n",
    "    content: str"
   ]
  },
  {
   "cell_type": "code",
   "execution_count": null,
   "metadata": {},
   "outputs": [],
   "source": [
    "db_law = VectorDB(\"legaldb\", LegalDB)\n",
    "db_law.add(ZPOFiles)\n",
    "db_law.add(BGBFiles)"
   ]
  }
 ],
 "metadata": {
  "kernelspec": {
   "display_name": "Python 3",
   "language": "python",
   "name": "python3"
  },
  "language_info": {
   "codemirror_mode": {
    "name": "ipython",
    "version": 3
   },
   "file_extension": ".py",
   "mimetype": "text/x-python",
   "name": "python",
   "nbconvert_exporter": "python",
   "pygments_lexer": "ipython3",
   "version": "3.12.0"
  }
 },
 "nbformat": 4,
 "nbformat_minor": 2
}
