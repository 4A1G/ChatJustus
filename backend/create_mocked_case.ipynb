{
 "cells": [
  {
   "cell_type": "code",
   "execution_count": null,
   "metadata": {},
   "outputs": [],
   "source": [
    "from dotenv import load_dotenv\n",
    "load_dotenv()\n",
    "\n",
    "from backend.database import Case, cases_db, Meeting, meetings_db, Dialog, dialogs_db\n",
    "from backend.database.generate import generate_mocked_dialog, generate_meeting_title_summary"
   ]
  },
  {
   "cell_type": "markdown",
   "metadata": {},
   "source": [
    "# Create Case, Dialog, and Meeting DBs\n",
    "\n",
    "Mocked flow from First Contact -> Meeting -> Follow-Up"
   ]
  },
  {
   "cell_type": "markdown",
   "metadata": {},
   "source": [
    "## 1. Justicius-Marco Divorce"
   ]
  },
  {
   "cell_type": "markdown",
   "metadata": {},
   "source": [
    "### First Contact\n",
    "\n",
    "Marco wants to get a divorce, he talked to our First Contact bot and it generated the following Case:"
   ]
  },
  {
   "cell_type": "code",
   "execution_count": null,
   "metadata": {},
   "outputs": [],
   "source": [
    "case = Case(\n",
    "    case_id='JUSTICIUS-MARCO',\n",
    "    client='Marco',\n",
    "    email='marco.polo@mail.com',\n",
    "    lawyer='Justicius',\n",
    "    summary='Wants divorce, has 2 kids',\n",
    ")"
   ]
  },
  {
   "cell_type": "code",
   "execution_count": null,
   "metadata": {},
   "outputs": [],
   "source": [
    "cases_db().add([case])"
   ]
  },
  {
   "cell_type": "markdown",
   "metadata": {},
   "source": [
    "### Meeting 1 Dialog"
   ]
  },
  {
   "cell_type": "code",
   "execution_count": null,
   "metadata": {},
   "outputs": [],
   "source": [
    "meeting1_timestamp = '2023-11-13'\n",
    "dialogs1 = [\n",
    "    Dialog(speaker=\"Justicius\", content=\"Hello, I'm Justicius, your divorce attorney. Nice to meet you, Marco!\"),\n",
    "    Dialog(speaker=\"Marco\", content=\"Hey, Justicius. Pleasure to meet you too.\"),\n",
    "    Dialog(speaker=\"Justicius\", content=\"As we discussed on the phone, I'll be representing you in your divorce case. How can I assist you further, Marco?\"),\n",
    "    Dialog(speaker=\"Marco\", content=\"I'm in need of guidance on the overall strategy for my divorce proceedings.\"),\n",
    "    Dialog(speaker=\"Justicius\", content=\"Certainly, Marco. Can you share any specific concerns or priorities you have for the divorce proceedings?\"),\n",
    "    Dialog(speaker=\"Marco\", content=\"Well, I want to ensure a fair division of assets and a smooth resolution, considering we've already discussed the details on the phone.\"),\n",
    "    Dialog(speaker=\"Justicius\", content=\"Understood, Marco. We'll work towards achieving a fair settlement. Now, let's discuss the strategy. Regarding fees, my hourly rate is 250 euros. I will provide you with detailed invoices, and I'll ensure transparency in tracking the time spent on your case. Additionally, I can provide you with a document outlining the fee structure for your reference.\"),\n",
    "    Dialog(speaker=\"Marco\", content=\"Sounds good. I appreciate your flexibility. Regarding the lawyer's fees, how do you usually structure payments?\"),\n",
    "    Dialog(speaker=\"Justicius\", content=\"Typically, clients pay a retainer upfront, and then I bill against that retainer on an hourly basis. If a flat fee arrangement works better for you, we can certainly explore that option. What are your preferences, Marco?\"),\n",
    "    Dialog(speaker=\"Marco\", content=\"I think a flat fee would provide more predictability for me. Can we discuss the details of what that would cover and any potential additional costs?\"),\n",
    "    Dialog(speaker=\"Justicius\", content=\"Certainly, Marco. We'll outline the scope of work covered by the flat fee, including court filings, consultations, and other necessary tasks. Any additional costs, such as court fees, will be discussed transparently. Now, let's move on to the strategy discussion.\"),\n",
    "    Dialog(speaker=\"Marco\", content=\"Great. I appreciate the clarity. Regarding the strategy, what steps do you propose in handling my divorce case?\"),\n",
    "    Dialog(speaker=\"Justicius\", content=\"First, I'll review all the relevant documentation. We'll strategize on the best approach to secure your interests, keeping your priorities in mind. I'll keep you informed at every step of the process.\"),\n",
    "    Dialog(speaker=\"Marco\", content=\"That's reassuring. How long do you estimate the divorce process will take, given our prior discussions?\"),\n",
    "    Dialog(speaker=\"Justicius\", content=\"The timeline depends on various factors, but I'll provide you with a more accurate estimate as we progress. Rest assured, I'll work diligently to expedite the process.\"),\n",
    "    Dialog(speaker=\"Marco\", content=\"Good to know. How often can we expect meetings or updates on the progress of my divorce case?\"),\n",
    "    Dialog(speaker=\"Justicius\", content=\"I suggest a check-in in two weeks to discuss updates and address any concerns. Additionally, we have a chatbot tool called ChatJustus that will assist you with follow-up questions and updates. It's available 24/7 for your convenience.\"),\n",
    "    Dialog(speaker=\"Marco\", content=\"That works for me. Let's move forward with the representation. Do you need any further information from me at this stage?\"),\n",
    "    Dialog(speaker=\"Justicius\", content=\"I'll need copies of the relevant documents, including your marriage certificate, financial statements, and any existing prenuptial or postnuptial agreements. Additionally, we'll finalize the details of the flat fee arrangement, and I'll provide you with the separate document on fees. I'm looking forward to working together, Marco.\"),\n",
    "    Dialog(speaker=\"Marco\", content=\"Likewise. Thanks for taking on my divorce case. I'll provide the necessary documents, and we can finalize the fee arrangement. I'm relieved to have you on my side.\"),\n",
    "    Dialog(speaker=\"Justicius\", content=\"It's my pleasure, Marco. I'm here to advocate for your best interests throughout the divorce process. Feel free to reach out if you have any questions before our next meeting.\"),\n",
    "    Dialog(speaker=\"Marco\", content=\"Thank you, I will. Looking forward to a smooth resolution.\"),\n",
    "    Dialog(speaker=\"Justicius\", content=\"Likewise, Marco. Have a great day, and we'll be in touch soon.\")\n",
    "]\n",
    "\n",
    "# Alternatively, use GPT to generate the dialogs\n",
    "# dialogs1 = await generate_mocked_dialog(case)"
   ]
  },
  {
   "cell_type": "markdown",
   "metadata": {},
   "source": [
    "Finally, add the dialogs to the DB"
   ]
  },
  {
   "cell_type": "code",
   "execution_count": null,
   "metadata": {},
   "outputs": [],
   "source": [
    "dialog1_db = dialogs_db(case.case_id, meeting1_timestamp)\n",
    "dialog1_db.add(dialogs1, list(range(len(dialogs1))))"
   ]
  },
  {
   "cell_type": "markdown",
   "metadata": {},
   "source": [
    "### Meeting 1 Summary"
   ]
  },
  {
   "cell_type": "code",
   "execution_count": null,
   "metadata": {},
   "outputs": [],
   "source": [
    "title=\"Divorce Case Strategy and Fee Discussion with Justicius\"\n",
    "summary= \"In your last meeting with Justicius, the following key points were covered: Fee Structure : 1. Justicius provided information on his hourly rate and the possibility of a flat fee arrangement to give you more predictability in legal costs. 2. Divorce Strategy : A strategy will be developed to ensure a fair division of assets and a smooth resolution, with Justicius keeping you informed at every step of the process. 3. Documentation and Next Steps**: You'll need to provide relevant documents such as your marriage certificate and financial statements, and a check-in meeting is suggested in two weeks to discuss updates.Do you have any questions about these points or anything else from the meeting?\"\n",
    "\n",
    "# Alternatively, use GPT to generate a meeting title and summary\n",
    "# title, summary = await generate_meeting_title_summary(case, dialogs1)"
   ]
  },
  {
   "cell_type": "markdown",
   "metadata": {},
   "source": [
    "Finally, add it to the DB"
   ]
  },
  {
   "cell_type": "code",
   "execution_count": null,
   "metadata": {},
   "outputs": [],
   "source": [
    "marco_meeting1 = Meeting(\n",
    "    timestamp=meeting1_timestamp,\n",
    "    title=title,\n",
    "    summary=summary,\n",
    ")\n",
    "\n",
    "meetings_db(case.case_id).add([marco_meeting1])"
   ]
  },
  {
   "cell_type": "markdown",
   "metadata": {},
   "source": [
    "### Meeting 2"
   ]
  },
  {
   "cell_type": "code",
   "execution_count": 1,
   "metadata": {},
   "outputs": [],
   "source": [
    "# TODO"
   ]
  }
 ],
 "metadata": {
  "kernelspec": {
   "display_name": "tc",
   "language": "python",
   "name": "python3"
  },
  "language_info": {
   "codemirror_mode": {
    "name": "ipython",
    "version": 3
   },
   "file_extension": ".py",
   "mimetype": "text/x-python",
   "name": "python",
   "nbconvert_exporter": "python",
   "pygments_lexer": "ipython3",
   "version": "3.12.0"
  }
 },
 "nbformat": 4,
 "nbformat_minor": 2
}
